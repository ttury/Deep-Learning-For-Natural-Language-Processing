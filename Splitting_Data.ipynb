{
  "nbformat": 4,
  "nbformat_minor": 0,
  "metadata": {
    "colab": {
      "name": "Splitting_Data.ipynb",
      "provenance": [],
      "collapsed_sections": [],
      "authorship_tag": "ABX9TyNJoXcz6Ko88XF5E+OF3Tid",
      "include_colab_link": true
    },
    "kernelspec": {
      "name": "python3",
      "display_name": "Python 3"
    },
    "language_info": {
      "name": "python"
    }
  },
  "cells": [
    {
      "cell_type": "markdown",
      "metadata": {
        "id": "view-in-github",
        "colab_type": "text"
      },
      "source": [
        "<a href=\"https://colab.research.google.com/github/ttury/Deep-Learning-For-Natural-Language-Processing/blob/master/Splitting_Data.ipynb\" target=\"_parent\"><img src=\"https://colab.research.google.com/assets/colab-badge.svg\" alt=\"Open In Colab\"/></a>"
      ]
    },
    {
      "cell_type": "markdown",
      "metadata": {
        "id": "Z1ICo1x5uVNq"
      },
      "source": [
        "# **데이터의 분리(Splitting Data)**\n",
        "---\n",
        "> 머신 러닝 모델에 데이터를 훈련시키기 위한 데이터의 분리 방법\n",
        "\n",
        "<br/>\n",
        "\n",
        "## 지도 학습의 경우\n",
        "---\n",
        "> **훈련 데이터**\n",
        "* X_train : 문제지 데이터\n",
        "* Y_train : 문제지에 대한 정답 데이터\n",
        "\n",
        "> **테스트 데이터**\n",
        "* X_test : 시험지 데이터\n",
        "* Y_test : 시험지에 대한 정답 데이터\n",
        "\n",
        "<br/>\n",
        "\n",
        "## **X와 Y 분리하기**\n",
        "\n",
        "<br/>\n",
        "\n",
        "## zip 함수 이용\n",
        "---\n",
        "> 리스트의 리스트(행렬, 2D 텐서) 분리에 유용\n",
        "\n",
        "<br/>\n",
        "\n",
        "## 데이터프레임 이용\n",
        "---\n",
        "> 열의 이름으로 각 열에 접근하여 분리\n",
        "\n",
        "<br/>\n",
        "\n",
        "## Numpy 이용\n",
        "---\n",
        "> ndarray 행렬을 만들고 각 열을 슬라이싱하여 분리\n",
        "\n",
        "<br/>\n",
        "\n",
        "## **테스트 데이터 분리하기**\n",
        "\n",
        "<br/>\n",
        "\n",
        "## 사이킷 런 이용\n",
        "---\n",
        "> train_test_split를 사용하여 분리\n",
        "`train_test_split(x, y, test_size, random_state)`\n",
        "* test_size : 테스트용 데이터 개수 지정, 1보다 작은 실수를 입력하면 비율을 의미\n",
        "* train_size : test_size의 학습용 데이터 버전, 둘 중 하나만 입력하면 생략 가능\n",
        "* random_state : 난수 시드\n",
        "\n",
        "<br/>\n",
        "\n",
        "## 수동으로 분리\n",
        "---\n",
        "> 훈련 데이터의 개수와 테스트 데이터의 개수를 지정해 전체 데이터를 슬라이싱하여 분리"
      ]
    },
    {
      "cell_type": "code",
      "metadata": {
        "colab": {
          "base_uri": "https://localhost:8080/"
        },
        "id": "xxCMehergAK9",
        "outputId": "8029d9c0-b68e-4667-c8f0-8233382fc931"
      },
      "source": [
        "# zip 함수 이용\n",
        "\n",
        "x, y = zip(['a', 1], ['b', 2], ['c', 3])\n",
        "\n",
        "print(x)\n",
        "print(y)\n",
        "print()\n",
        "\n",
        "sequences = [['a', 1], ['b', 2], ['c', 3]]\n",
        "x, y = zip(*sequences)\n",
        "\n",
        "print(x)\n",
        "print(y)"
      ],
      "execution_count": 6,
      "outputs": [
        {
          "output_type": "stream",
          "text": [
            "('a', 'b', 'c')\n",
            "(1, 2, 3)\n",
            "\n",
            "('a', 'b', 'c')\n",
            "(1, 2, 3)\n"
          ],
          "name": "stdout"
        }
      ]
    },
    {
      "cell_type": "code",
      "metadata": {
        "colab": {
          "base_uri": "https://localhost:8080/"
        },
        "id": "b9FPdWp1k-wo",
        "outputId": "0e4da478-1262-42d7-efe4-24488477351c"
      },
      "source": [
        "# 데이터프레임 이용\n",
        "\n",
        "import pandas as pd\n",
        "\n",
        "values = [['당신에게 드리는 마지막 혜택!', 1],\n",
        "['내일 뵐 수 있을지 확인 부탁드...', 0],\n",
        "['도연씨. 잘 지내시죠? 오랜만입...', 0],\n",
        "['(광고) AI로 주가를 예측할 수 있다!', 1]]\n",
        "columns = ['메일 본문', '스팸 메일 유무']\n",
        "\n",
        "df = pd.DataFrame(values, columns = columns)\n",
        "print(df)\n",
        "print()\n",
        "\n",
        "x = df['메일 본문']\n",
        "y = df['스팸 메일 유무']\n",
        "\n",
        "print(x)\n",
        "print()\n",
        "print(y)"
      ],
      "execution_count": 11,
      "outputs": [
        {
          "output_type": "stream",
          "text": [
            "                    메일 본문  스팸 메일 유무\n",
            "0        당신에게 드리는 마지막 혜택!         1\n",
            "1    내일 뵐 수 있을지 확인 부탁드...         0\n",
            "2    도연씨. 잘 지내시죠? 오랜만입...         0\n",
            "3  (광고) AI로 주가를 예측할 수 있다!         1\n",
            "\n",
            "0          당신에게 드리는 마지막 혜택!\n",
            "1      내일 뵐 수 있을지 확인 부탁드...\n",
            "2      도연씨. 잘 지내시죠? 오랜만입...\n",
            "3    (광고) AI로 주가를 예측할 수 있다!\n",
            "Name: 메일 본문, dtype: object\n",
            "\n",
            "0    1\n",
            "1    0\n",
            "2    0\n",
            "3    1\n",
            "Name: 스팸 메일 유무, dtype: int64\n"
          ],
          "name": "stdout"
        }
      ]
    },
    {
      "cell_type": "code",
      "metadata": {
        "colab": {
          "base_uri": "https://localhost:8080/"
        },
        "id": "vfyxz59XlwPt",
        "outputId": "91889314-3545-4c69-b1f6-9356ff3d653d"
      },
      "source": [
        "# Numpy -> ndarray\n",
        "\n",
        "import numpy as np\n",
        "\n",
        "ar = np.arange(0, 16).reshape(4, 4)\n",
        "print(ar)\n",
        "print()\n",
        "\n",
        "x = ar[:, :3]\n",
        "print(x)\n",
        "print()\n",
        "\n",
        "y = ar[:, 3]\n",
        "print(y)"
      ],
      "execution_count": 20,
      "outputs": [
        {
          "output_type": "stream",
          "text": [
            "[[ 0  1  2  3]\n",
            " [ 4  5  6  7]\n",
            " [ 8  9 10 11]\n",
            " [12 13 14 15]]\n",
            "\n",
            "[[ 0  1  2]\n",
            " [ 4  5  6]\n",
            " [ 8  9 10]\n",
            " [12 13 14]]\n",
            "\n",
            "[ 3  7 11 15]\n"
          ],
          "name": "stdout"
        }
      ]
    },
    {
      "cell_type": "code",
      "metadata": {
        "colab": {
          "base_uri": "https://localhost:8080/"
        },
        "id": "PVfDw1PXnGK0",
        "outputId": "045d3c55-e209-469b-e430-dd36205575f8"
      },
      "source": [
        "# 사이킷 런 이용\n",
        "\n",
        "import numpy as np\n",
        "from sklearn.model_selection import train_test_split\n",
        "\n",
        "x, y = np.arange(10).reshape((5, 2)), list(range(5))\n",
        "\n",
        "print(x)\n",
        "print(y)\n",
        "print()\n",
        "\n",
        "x_train, x_test, y_train, y_test = train_test_split(x,  y, test_size = 0.33, random_state = 1234)\n",
        "\n",
        "print(x_train)\n",
        "print(y_train)\n",
        "print()\n",
        "\n",
        "print(x_test)\n",
        "print(y_test)"
      ],
      "execution_count": 32,
      "outputs": [
        {
          "output_type": "stream",
          "text": [
            "[[0 1]\n",
            " [2 3]\n",
            " [4 5]\n",
            " [6 7]\n",
            " [8 9]]\n",
            "[0, 1, 2, 3, 4]\n",
            "\n",
            "[[2 3]\n",
            " [4 5]\n",
            " [6 7]]\n",
            "[1, 2, 3]\n",
            "\n",
            "[[8 9]\n",
            " [0 1]]\n",
            "[4, 0]\n"
          ],
          "name": "stdout"
        }
      ]
    },
    {
      "cell_type": "code",
      "metadata": {
        "colab": {
          "base_uri": "https://localhost:8080/"
        },
        "id": "_DS11zLNqmTQ",
        "outputId": "1d6390db-44d8-4621-80de-ccf5d7be66be"
      },
      "source": [
        "# 수동으로 분리하기\n",
        "\n",
        "import numpy as np\n",
        "\n",
        "x, y = np.arange(24).reshape((12, 2)), list(range(12))\n",
        "\n",
        "print(x)\n",
        "print(y)\n",
        "print()\n",
        "\n",
        "num_of_train = int(len(x) * 0.8) # 전체 데이터의 80%\n",
        "num_of_test = int(len(x) - num_of_train) # 전체 데이터의 20%\n",
        "\n",
        "print(num_of_train)\n",
        "print(num_of_test)\n",
        "print()\n",
        "\n",
        "x_test = x[num_of_train:]\n",
        "y_test = y[num_of_train:]\n",
        "x_train = x[:num_of_train]\n",
        "y_train = y[:num_of_train]\n",
        "\n",
        "print(x_test)\n",
        "print(y_test)\n",
        "print()\n",
        "\n",
        "print(x_train)\n",
        "print(y_train)\n",
        "print()"
      ],
      "execution_count": 38,
      "outputs": [
        {
          "output_type": "stream",
          "text": [
            "[[ 0  1]\n",
            " [ 2  3]\n",
            " [ 4  5]\n",
            " [ 6  7]\n",
            " [ 8  9]\n",
            " [10 11]\n",
            " [12 13]\n",
            " [14 15]\n",
            " [16 17]\n",
            " [18 19]\n",
            " [20 21]\n",
            " [22 23]]\n",
            "[0, 1, 2, 3, 4, 5, 6, 7, 8, 9, 10, 11]\n",
            "\n",
            "9\n",
            "3\n",
            "\n",
            "[[18 19]\n",
            " [20 21]\n",
            " [22 23]]\n",
            "[9, 10, 11]\n",
            "\n",
            "[[ 0  1]\n",
            " [ 2  3]\n",
            " [ 4  5]\n",
            " [ 6  7]\n",
            " [ 8  9]\n",
            " [10 11]\n",
            " [12 13]\n",
            " [14 15]\n",
            " [16 17]]\n",
            "[0, 1, 2, 3, 4, 5, 6, 7, 8]\n",
            "\n"
          ],
          "name": "stdout"
        }
      ]
    }
  ]
}