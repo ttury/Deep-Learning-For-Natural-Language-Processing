{
  "nbformat": 4,
  "nbformat_minor": 0,
  "metadata": {
    "colab": {
      "name": "Cosine_Similarity.ipynb",
      "provenance": [],
      "collapsed_sections": [],
      "mount_file_id": "1i2sq3CYlIO4wv5f0SRvd6gETX5C88o8_",
      "authorship_tag": "ABX9TyNk2Xnw7uMRHHvylQDssLXr",
      "include_colab_link": true
    },
    "kernelspec": {
      "name": "python3",
      "display_name": "Python 3"
    },
    "language_info": {
      "name": "python"
    }
  },
  "cells": [
    {
      "cell_type": "markdown",
      "metadata": {
        "id": "view-in-github",
        "colab_type": "text"
      },
      "source": [
        "<a href=\"https://colab.research.google.com/github/ttury/Deep-Learning-For-Natural-Language-Processing/blob/master/Cosine_Similarity.ipynb\" target=\"_parent\"><img src=\"https://colab.research.google.com/assets/colab-badge.svg\" alt=\"Open In Colab\"/></a>"
      ]
    },
    {
      "cell_type": "code",
      "metadata": {
        "id": "d_kYbq2tZUZO"
      },
      "source": [
        "from numpy import dot # 이거 안해주면 앞에 np. 붙여야되서 귀찮음\n",
        "from numpy.linalg import norm\n",
        "import numpy as np\n",
        "\n",
        "def cos_sim(A, B):\n",
        "  return dot(A, B) / (norm(A) * norm(B))"
      ],
      "execution_count": 2,
      "outputs": []
    },
    {
      "cell_type": "code",
      "metadata": {
        "id": "uP4A1xUIblHn"
      },
      "source": [
        "import pandas as pd\n",
        "from math import log\n",
        "\n",
        "docs = [\n",
        "        '저는 사과 좋아요',\n",
        "        '저는 바나나 좋아요',\n",
        "        '저는 바나나 좋아요 저는 바나나 좋아요'\n",
        "]\n",
        "vocab = set()\n",
        "for doc in docs:\n",
        "  vocab.update(doc.split())\n",
        "vocab = list(vocab)\n",
        "vocab.sort()"
      ],
      "execution_count": 3,
      "outputs": []
    },
    {
      "cell_type": "code",
      "metadata": {
        "id": "-tkRFV3kcHA9"
      },
      "source": [
        "num_of_docs = len(docs)\n",
        "\n",
        "def term_frequency(term, doc):\n",
        "  return doc.count(term)\n",
        "\n",
        "def doc_frequency(term):\n",
        "  df = 0\n",
        "  for doc in docs:\n",
        "    df += term in doc\n",
        "  return df\n",
        "\n",
        "def inv_doc_frequency(term):\n",
        "  df = doc_frequency(term)\n",
        "  return log(num_of_docs / (df + 1))\n",
        "\n",
        "def tf_idf(term, doc):\n",
        "  return term_frequency(term, doc) * inv_doc_frequency(term)"
      ],
      "execution_count": 4,
      "outputs": []
    },
    {
      "cell_type": "code",
      "metadata": {
        "id": "QH19S7iRdNtR"
      },
      "source": [
        "result = list()\n",
        "for doc in docs:\n",
        "  result.append([])\n",
        "  for term in vocab:\n",
        "    result[-1].append(term_frequency(term, doc))\n",
        "\n",
        "tf = pd.DataFrame(result, columns = vocab)\n",
        "print(tf)"
      ],
      "execution_count": null,
      "outputs": []
    },
    {
      "cell_type": "code",
      "metadata": {
        "id": "AotJ0euWeZKv"
      },
      "source": [
        "doc1 = tf.loc[0].to_numpy()\n",
        "doc2 = tf.loc[1].to_numpy()\n",
        "doc3 = tf.loc[2].to_numpy()\n",
        "\n",
        "print(cos_sim(doc1, doc2))\n",
        "print(cos_sim(doc2, doc3))\n",
        "print(cos_sim(doc3, doc1))"
      ],
      "execution_count": null,
      "outputs": []
    },
    {
      "cell_type": "code",
      "metadata": {
        "id": "b6wxS4m_fojh"
      },
      "source": [
        "from sklearn.feature_extraction.text import TfidfVectorizer\n",
        "from sklearn.metrics.pairwise import linear_kernel\n",
        "\n",
        "data = pd.read_csv('/content/drive/MyDrive/datasets/movies_metadata.csv', low_memory = False)\n",
        "data.head(2) # 데이터가 어떤 형식을 갖고 있는지 확ㅇ니"
      ],
      "execution_count": null,
      "outputs": []
    },
    {
      "cell_type": "code",
      "metadata": {
        "id": "9KmSRUGdiI7n"
      },
      "source": [
        "data = data.head(20000)\n",
        "print(data['overview'].isnull().sum())\n",
        "# tf-idf 과정에서 에러를 막기 위해 null 값이 있는지 확인\n",
        "data['overview'] = data['overview'].fillna('')\n",
        "# null 값을 빈 값으로 대체\n",
        "print(data['overview'].isnull().sum())"
      ],
      "execution_count": null,
      "outputs": []
    },
    {
      "cell_type": "code",
      "metadata": {
        "id": "36CMhngxjbog"
      },
      "source": [
        "tfidf = TfidfVectorizer(stop_words = 'english')\n",
        "tfidf_matrix = tfidf.fit_transform(data['overview'])\n",
        "print(tfidf_matrix.shape)\n",
        "print()\n",
        "# 20000개의 영화를 표현하기 위해 47487개의 단어가 사용(단어 집합의 열 개수)\n",
        "\n",
        "cosine_sim = linear_kernel(tfidf_matrix, tfidf_matrix) # 코사인 유사도 구하기\n",
        "# 행과 열이 모두 영화(20000 x 20000 크기 행렬), 특정 영화에 대한 나머지 영화들의 코사인 유사도 저장\n",
        "\n",
        "indices = pd.Series(data.index, index = data['title']) # value와 index 바꿈\n",
        "\n",
        "print(indices.head())\n",
        "print()\n",
        "\n",
        "index = indices['Father of the Bride Part II']\n",
        "print(index)\n",
        "# 영화의 제목을 입력하면 인덱스를 리턴"
      ],
      "execution_count": null,
      "outputs": []
    },
    {
      "cell_type": "code",
      "metadata": {
        "id": "tPs0nA3FFxt1"
      },
      "source": [
        "def get_recommendations(title, cosine_sim = cosine_sim):\n",
        "  index = indices[title]\n",
        "  # 영화의 제목을 이용해 인덱스 받아오기\n",
        "  sim_scores = list(enumerate(cosine_sim[index]))\n",
        "  # 모든 영화에서 해당 영화와의 코사인 유사도 받기, enumerate를 통해 인덱스(영화 분류)를 가진 2차원 배열 반환\n",
        "  sim_scores = sorted(sim_scores, key = lambda x : x[1], reverse = True) # 코사인 유사도를 기준으로 정렬\n",
        "  sim_scores = sim_scores[1:11]\n",
        "  # 가장 유사한 10개의 영화만 추리기(자신 제외)\n",
        "  movie_indices = [sim_score[0] for sim_score in sim_scores]\n",
        "  # enumerate를 통해 받아온 영화 인덱스 가져오기\n",
        "  return data['title'].iloc[movie_indices]\n",
        "  # index = indices[title] 과 반대 작업, data['title'][movie_indices]로 해도 됨"
      ],
      "execution_count": 56,
      "outputs": []
    },
    {
      "cell_type": "code",
      "metadata": {
        "colab": {
          "base_uri": "https://localhost:8080/"
        },
        "id": "xL8jTbfaTdWz",
        "outputId": "514496a9-df21-47ca-9864-4bf6304af7d1"
      },
      "source": [
        "get_recommendations(\"Jaws\")"
      ],
      "execution_count": 67,
      "outputs": [
        {
          "output_type": "execute_result",
          "data": {
            "text/plain": [
              "3998              Jaws: The Revenge\n",
              "1339                         Jaws 2\n",
              "1340                       Jaws 3-D\n",
              "16168                      The Reef\n",
              "19065    Iria: Zeiram the Animation\n",
              "19744                          Bait\n",
              "18241                    Sharktopus\n",
              "12712                Turn the River\n",
              "18641    Mega Shark vs. Crocosaurus\n",
              "8180                     Shark Tale\n",
              "Name: title, dtype: object"
            ]
          },
          "metadata": {
            "tags": []
          },
          "execution_count": 67
        }
      ]
    }
  ]
}