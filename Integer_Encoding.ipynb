{
  "nbformat": 4,
  "nbformat_minor": 0,
  "metadata": {
    "colab": {
      "name": "Integer Encoding.ipynb",
      "provenance": [],
      "collapsed_sections": [],
      "authorship_tag": "ABX9TyOVGCaAHanFwFXimbohsGPV",
      "include_colab_link": true
    },
    "kernelspec": {
      "name": "python3",
      "display_name": "Python 3"
    },
    "language_info": {
      "name": "python"
    }
  },
  "cells": [
    {
      "cell_type": "markdown",
      "metadata": {
        "id": "view-in-github",
        "colab_type": "text"
      },
      "source": [
        "<a href=\"https://colab.research.google.com/github/ttury/Deep-Learning-For-Natural-Language-Processing/blob/master/Integer_Encoding.ipynb\" target=\"_parent\"><img src=\"https://colab.research.google.com/assets/colab-badge.svg\" alt=\"Open In Colab\"/></a>"
      ]
    },
    {
      "cell_type": "markdown",
      "metadata": {
        "id": "N6vPv0D723ln"
      },
      "source": [
        "# 정수 인코딩(Integer Encoding)\n",
        "<br/>\n",
        "\n",
        "## dictionary 자료형\n",
        "---\n",
        "\n",
        "> 단어를 빈도수 순으로 정렬한 단어 집합을 만들어 인코딩함\n",
        "\n",
        "<br/>\n",
        "\n",
        "## Counter\n",
        "---\n",
        "\n",
        "`from collections import Counter`\n",
        "\n",
        "> 단어 집합을 Counter의 입력으로 사용하면 중복을 제거하고 단어의 빈도수를 기록함\n",
        "\n",
        "<br/>\n",
        "\n",
        "## NLTK -> FreqDist\n",
        "---\n",
        "\n",
        "`from nltk import FreqDist`\n",
        "\n",
        "> Counter와 같은 빈도수 계산 도구\n",
        "\n",
        "<br/>\n",
        "\n",
        "## Keras -> tokenizer\n",
        "---\n",
        "\n",
        "`from tensorflow.keras.preprocessing.text import Tokenizer`\n",
        "\n",
        "> fit_on_texts()를 이용해 정수 인코딩\n"
      ]
    },
    {
      "cell_type": "code",
      "metadata": {
        "colab": {
          "base_uri": "https://localhost:8080/"
        },
        "id": "J00tVSJmbn9G",
        "outputId": "10ccc603-a172-442a-b48f-544896dae934"
      },
      "source": [
        "import nltk\n",
        "nltk.download(\"punkt\")\n",
        "nltk.download(\"stopwords\")"
      ],
      "execution_count": 2,
      "outputs": [
        {
          "output_type": "stream",
          "text": [
            "[nltk_data] Downloading package punkt to /root/nltk_data...\n",
            "[nltk_data]   Unzipping tokenizers/punkt.zip.\n",
            "[nltk_data] Downloading package stopwords to /root/nltk_data...\n",
            "[nltk_data]   Unzipping corpora/stopwords.zip.\n"
          ],
          "name": "stdout"
        },
        {
          "output_type": "execute_result",
          "data": {
            "text/plain": [
              "True"
            ]
          },
          "metadata": {
            "tags": []
          },
          "execution_count": 2
        }
      ]
    },
    {
      "cell_type": "code",
      "metadata": {
        "colab": {
          "base_uri": "https://localhost:8080/"
        },
        "id": "J8nhH6jBapaC",
        "outputId": "171c916d-a184-4f8a-95b3-3f23dadca7b0"
      },
      "source": [
        "# dictionary 자료형 사용\n",
        "\n",
        "from nltk.tokenize import sent_tokenize\n",
        "from nltk.tokenize import word_tokenize\n",
        "from nltk.corpus import stopwords\n",
        "\n",
        "text = \"A barber is a person. a barber is good person. a barber is huge person. he Knew A Secret! The Secret He Kept is huge secret. Huge secret. His barber kept his word. a barber kept his word. His barber kept his secret. But keeping and keeping such a huge secret to himself was driving the barber crazy. the barber went up a huge mountain.\"\n",
        "\n",
        "sent_tokens = sent_tokenize(text)\n",
        "print(sent_tokens)\n",
        "\n",
        "vocab = dict()\n",
        "words_by_sent = list()\n",
        "stop_words = set(stopwords.words('english'))\n",
        "\n",
        "# words_by_sent(문장별 불용어 삭제 단어 리스트), vocab(단어 집합) 만들기\n",
        "for sent_token in sent_tokens:\n",
        "  word_tokens = word_tokenize(sent_token)\n",
        "  result = list()\n",
        "\n",
        "  for word_token in word_tokens:\n",
        "    word_token = word_token.lower()\n",
        "    if word_token not in stop_words:\n",
        "      if len(word_token) > 2:\n",
        "        result.append(word_token)\n",
        "        if word_token not in vocab:\n",
        "          vocab[word_token] = 0\n",
        "        vocab[word_token] += 1\n",
        "  \n",
        "  words_by_sent.append(result)\n",
        "\n",
        "print(words_by_sent)\n",
        "print()\n",
        "\n",
        "print(vocab)\n",
        "print(vocab[\"barber\"])\n",
        "print()\n",
        "\n",
        "# 단어 집합 정렬\n",
        "vocab_sorted = sorted(vocab.items(), key = lambda x:x[1], reverse = True)\n",
        "print(vocab_sorted)\n",
        "print()\n",
        "\n",
        "# 단어 집합 반대로 정렬 & 빈도가 1인 단어 삭제\n",
        "vocab_processed = dict()\n",
        "i = 0\n",
        "for (word, frequency) in vocab_sorted:\n",
        "  if frequency > 1:\n",
        "    i+=1\n",
        "    vocab_processed[word] = i\n",
        "\n",
        "print(vocab_processed)\n",
        "\n",
        "# 빈도수 상위 5개 단어들 골라내기\n",
        "vocab_size = 5\n",
        "words_frequency = [word for word, frequency in vocab_processed.items() if frequency > vocab_size]\n",
        "for word in words_frequency:\n",
        "  del vocab_processed[word]\n",
        "print(vocab_processed)\n",
        "print()\n",
        "\n",
        "# words(list) integer encoding\n",
        "vocab_processed['OOV'] = len(vocab_processed) + 1\n",
        "\n",
        "encoded = list()\n",
        "for word_tokens in words:\n",
        "  temp = list()\n",
        "  for word_token in word_tokens:\n",
        "    try:\n",
        "      temp.append(vocab_processed[word_token])\n",
        "    except KeyError:\n",
        "      temp.append(vocab_processed['OOV'])\n",
        "  encoded.append(temp)\n",
        "\n",
        "print(encoded)"
      ],
      "execution_count": 15,
      "outputs": [
        {
          "output_type": "stream",
          "text": [
            "['A barber is a person.', 'a barber is good person.', 'a barber is huge person.', 'he Knew A Secret!', 'The Secret He Kept is huge secret.', 'Huge secret.', 'His barber kept his word.', 'a barber kept his word.', 'His barber kept his secret.', 'But keeping and keeping such a huge secret to himself was driving the barber crazy.', 'the barber went up a huge mountain.']\n",
            "[['barber', 'person'], ['barber', 'good', 'person'], ['barber', 'huge', 'person'], ['knew', 'secret'], ['secret', 'kept', 'huge', 'secret'], ['huge', 'secret'], ['barber', 'kept', 'word'], ['barber', 'kept', 'word'], ['barber', 'kept', 'secret'], ['keeping', 'keeping', 'huge', 'secret', 'driving', 'barber', 'crazy'], ['barber', 'went', 'huge', 'mountain']]\n",
            "\n",
            "{'barber': 8, 'person': 3, 'good': 1, 'huge': 5, 'knew': 1, 'secret': 6, 'kept': 4, 'word': 2, 'keeping': 2, 'driving': 1, 'crazy': 1, 'went': 1, 'mountain': 1}\n",
            "8\n",
            "\n",
            "[('barber', 8), ('secret', 6), ('huge', 5), ('kept', 4), ('person', 3), ('word', 2), ('keeping', 2), ('good', 1), ('knew', 1), ('driving', 1), ('crazy', 1), ('went', 1), ('mountain', 1)]\n",
            "\n",
            "{'barber': 1, 'secret': 2, 'huge': 3, 'kept': 4, 'person': 5, 'word': 6, 'keeping': 7}\n",
            "{'barber': 1, 'secret': 2, 'huge': 3, 'kept': 4, 'person': 5}\n",
            "\n",
            "[[1, 5], [1, 6, 5], [1, 3, 5], [6, 2], [2, 4, 3, 2], [3, 2], [1, 4, 6], [1, 4, 6], [1, 4, 2], [6, 6, 3, 2, 6, 1, 6], [1, 6, 3, 6]]\n"
          ],
          "name": "stdout"
        }
      ]
    },
    {
      "cell_type": "code",
      "metadata": {
        "colab": {
          "base_uri": "https://localhost:8080/"
        },
        "id": "7_ea_NvT3Mcm",
        "outputId": "8fedf901-e9d0-45f1-f1eb-dc4fa125ec00"
      },
      "source": [
        "# Counter 사용\n",
        "\n",
        "from collections import Counter\n",
        "from nltk.tokenize import sent_tokenize\n",
        "from nltk.tokenize import word_tokenize\n",
        "from nltk.corpus import stopwords\n",
        "\n",
        "text = \"A barber is a person. a barber is good person. a barber is huge person. he Knew A Secret! The Secret He Kept is huge secret. Huge secret. His barber kept his word. a barber kept his word. His barber kept his secret. But keeping and keeping such a huge secret to himself was driving the barber crazy. the barber went up a huge mountain.\"\n",
        "sent_tokens = sent_tokenize(text)\n",
        "stop_words = stopwords.words('english')\n",
        "\n",
        "words_by_sent = list()\n",
        "\n",
        "for sent_token in sent_tokens:\n",
        "  word_tokens = word_tokenize(sent_token)\n",
        "  result = list()\n",
        "\n",
        "  for word_token in word_tokens:\n",
        "    word_token = word_token.lower()\n",
        "    if word_token not in stop_words:\n",
        "      if len(word_token) > 2:\n",
        "        result.append(word_token)\n",
        "  \n",
        "  words_by_sent.append(result)\n",
        "\n",
        "# words_by_sent -> words(문장 구분 없는 단어 집합)\n",
        "print(words_by_sent)\n",
        "words = sum(words_by_sent, []) # words_by_list is list, so second para should be empty list\n",
        "print(words)\n",
        "print()\n",
        "\n",
        "# Counter 객체 생성\n",
        "vocab = Counter(words)\n",
        "print(vocab)\n",
        "print(vocab[\"barber\"])\n",
        "print()\n",
        "\n",
        "# 빈도수 상위 5개 단어 골라내기\n",
        "vocab_size = 5\n",
        "vocab = vocab.most_common(vocab_size)\n",
        "print(vocab)\n",
        "print()\n",
        "\n",
        "# 단어 인덱싱\n",
        "vocab_processed = dict()\n",
        "i = 0\n",
        "for (word, frequency) in vocab:\n",
        "  i = i + 1\n",
        "  vocab_processed[word] = i\n",
        "\n",
        "print(vocab_processed)"
      ],
      "execution_count": null,
      "outputs": [
        {
          "output_type": "stream",
          "text": [
            "[['barber', 'person'], ['barber', 'good', 'person'], ['barber', 'huge', 'person'], ['knew', 'secret'], ['secret', 'kept', 'huge', 'secret'], ['huge', 'secret'], ['barber', 'kept', 'word'], ['barber', 'kept', 'word'], ['barber', 'kept', 'secret'], ['keeping', 'keeping', 'huge', 'secret', 'driving', 'barber', 'crazy'], ['barber', 'went', 'huge', 'mountain']]\n",
            "['barber', 'person', 'barber', 'good', 'person', 'barber', 'huge', 'person', 'knew', 'secret', 'secret', 'kept', 'huge', 'secret', 'huge', 'secret', 'barber', 'kept', 'word', 'barber', 'kept', 'word', 'barber', 'kept', 'secret', 'keeping', 'keeping', 'huge', 'secret', 'driving', 'barber', 'crazy', 'barber', 'went', 'huge', 'mountain']\n",
            "\n",
            "Counter({'barber': 8, 'secret': 6, 'huge': 5, 'kept': 4, 'person': 3, 'word': 2, 'keeping': 2, 'good': 1, 'knew': 1, 'driving': 1, 'crazy': 1, 'went': 1, 'mountain': 1})\n",
            "8\n",
            "\n",
            "[('barber', 8), ('secret', 6), ('huge', 5), ('kept', 4), ('person', 3)]\n",
            "\n",
            "{'barber': 1, 'secret': 2, 'huge': 3, 'kept': 4, 'person': 5}\n"
          ],
          "name": "stdout"
        }
      ]
    },
    {
      "cell_type": "code",
      "metadata": {
        "colab": {
          "base_uri": "https://localhost:8080/"
        },
        "id": "UhCIgRGI5DEH",
        "outputId": "2c06a94e-f419-480e-c064-04b73337e01d"
      },
      "source": [
        "# FreqDist 사용\n",
        "\n",
        "from nltk import FreqDist\n",
        "import numpy as np\n",
        "from nltk.tokenize import sent_tokenize\n",
        "from nltk.tokenize import word_tokenize\n",
        "from nltk.corpus import stopwords\n",
        "\n",
        "text = \"A barber is a person. a barber is good person. a barber is huge person. he Knew A Secret! The Secret He Kept is huge secret. Huge secret. His barber kept his word. a barber kept his word. His barber kept his secret. But keeping and keeping such a huge secret to himself was driving the barber crazy. the barber went up a huge mountain.\"\n",
        "sent_tokens = sent_tokenize(text)\n",
        "stop_words = stopwords.words('english')\n",
        "words_by_sentence = list()\n",
        "\n",
        "for sent_token in sent_tokens:\n",
        "  word_tokens = word_tokenize(sent_token)\n",
        "  result = list()\n",
        "\n",
        "  for word_token in word_tokens:\n",
        "    word_token = word_token.lower()\n",
        "    if word_token not in stop_words:\n",
        "      if len(word_token) > 2:\n",
        "        result.append(word_token)\n",
        "\n",
        "  words_by_sentence.append(result)\n",
        "\n",
        "# FreqDist 객체 생성\n",
        "words = np.hstack(words_by_sentence) # sum(words_by_sentence, [])\n",
        "vocab = FreqDist(words)\n",
        "print(vocab)\n",
        "print(vocab[\"barber\"])\n",
        "print()\n",
        "\n",
        "# 빈도수 상위 5개 단어 골라내기\n",
        "vocab_size = 5\n",
        "vocab = vocab.most_common(vocab_size)\n",
        "print(vocab)\n",
        "print()\n",
        "\n",
        "# 단어 인덱싱\n",
        "vocab_processed = {word[0] : index + 1 for index, word in enumerate(vocab)}\n",
        "print(vocab_processed)"
      ],
      "execution_count": null,
      "outputs": [
        {
          "output_type": "stream",
          "text": [
            "<FreqDist with 13 samples and 36 outcomes>\n",
            "8\n",
            "\n",
            "[('barber', 8), ('secret', 6), ('huge', 5), ('kept', 4), ('person', 3)]\n",
            "\n",
            "{'barber': 1, 'secret': 2, 'huge': 3, 'kept': 4, 'person': 5}\n"
          ],
          "name": "stdout"
        }
      ]
    },
    {
      "cell_type": "code",
      "metadata": {
        "colab": {
          "base_uri": "https://localhost:8080/"
        },
        "id": "UPBwhw9h9Oqb",
        "outputId": "0998a406-970b-45db-c2bd-702d4ef75e6f"
      },
      "source": [
        "# keras tokenizer 사용\n",
        "\n",
        "from tensorflow.keras.preprocessing.text import Tokenizer\n",
        "from nltk.tokenize import sent_tokenize\n",
        "from nltk.tokenize import word_tokenize\n",
        "from nltk.corpus import stopwords\n",
        "\n",
        "text = \"A barber is a person. a barber is good person. a barber is huge person. he Knew A Secret! The Secret He Kept is huge secret. Huge secret. His barber kept his word. a barber kept his word. His barber kept his secret. But keeping and keeping such a huge secret to himself was driving the barber crazy. the barber went up a huge mountain.\"\n",
        "sent_tokens = sent_tokenize(text)\n",
        "stop_words = stopwords.words('english')\n",
        "words_by_sent = list()\n",
        "\n",
        "for sent_token in sent_tokens:\n",
        "  word_tokens = word_tokenize(sent_token)\n",
        "  result = list()\n",
        "\n",
        "  for word_token in word_tokens:\n",
        "    word_token = word_token.lower()\n",
        "    if word_token not in stop_words:\n",
        "      if len(word_token) > 2:\n",
        "        result.append(word_token)\n",
        "  \n",
        "  words_by_sent.append(result)\n",
        "\n",
        "print(words_by_sent)\n",
        "print()\n",
        "\n",
        "# Tokenizer 객체 생성\n",
        "tokenizer = Tokenizer()\n",
        "tokenizer.fit_on_texts(words_by_sent)\n",
        "\n",
        "# 단어 인덱싱, 빈도수, 인코딩\n",
        "print(tokenizer.word_index)\n",
        "print(tokenizer.word_counts)\n",
        "print(tokenizer.texts_to_sequences(words_by_sent))\n",
        "print()\n",
        "\n",
        "# 단어 빈도수 상위 5개 골라내기\n",
        "vocab_size = 5\n",
        "tokenizer = Tokenizer(num_words = vocab_size + 1)\n",
        "tokenizer.fit_on_texts(words_by_sent)\n",
        "\n",
        "# num_words의 적용은 texts_to_sequences에서만 일어남\n",
        "print(tokenizer.word_index)\n",
        "print(tokenizer.word_counts)\n",
        "print(tokenizer.texts_to_sequences(words_by_sent))\n",
        "print()\n",
        "\n",
        "# 단어 집합에 없는 단어를 OOV로 보존하고 싶다면 oov_token 사용\n",
        "vocab_size = 5\n",
        "tokenizer = Tokenizer(num_words = vocab_size + 2, oov_token = \"OOV\")\n",
        "tokenizer.fit_on_texts(words_by_sent)\n",
        "\n",
        "print(\"단어 OOV의 인덱스 : {}\".format(tokenizer.word_index[\"OOV\"]))\n",
        "print(tokenizer.texts_to_sequences(words_by_sent))"
      ],
      "execution_count": 12,
      "outputs": [
        {
          "output_type": "stream",
          "text": [
            "[['barber', 'person'], ['barber', 'good', 'person'], ['barber', 'huge', 'person'], ['knew', 'secret'], ['secret', 'kept', 'huge', 'secret'], ['huge', 'secret'], ['barber', 'kept', 'word'], ['barber', 'kept', 'word'], ['barber', 'kept', 'secret'], ['keeping', 'keeping', 'huge', 'secret', 'driving', 'barber', 'crazy'], ['barber', 'went', 'huge', 'mountain']]\n",
            "\n",
            "{'barber': 1, 'secret': 2, 'huge': 3, 'kept': 4, 'person': 5, 'word': 6, 'keeping': 7, 'good': 8, 'knew': 9, 'driving': 10, 'crazy': 11, 'went': 12, 'mountain': 13}\n",
            "OrderedDict([('barber', 8), ('person', 3), ('good', 1), ('huge', 5), ('knew', 1), ('secret', 6), ('kept', 4), ('word', 2), ('keeping', 2), ('driving', 1), ('crazy', 1), ('went', 1), ('mountain', 1)])\n",
            "[[1, 5], [1, 8, 5], [1, 3, 5], [9, 2], [2, 4, 3, 2], [3, 2], [1, 4, 6], [1, 4, 6], [1, 4, 2], [7, 7, 3, 2, 10, 1, 11], [1, 12, 3, 13]]\n",
            "\n",
            "{'barber': 1, 'secret': 2, 'huge': 3, 'kept': 4, 'person': 5, 'word': 6, 'keeping': 7, 'good': 8, 'knew': 9, 'driving': 10, 'crazy': 11, 'went': 12, 'mountain': 13}\n",
            "OrderedDict([('barber', 8), ('person', 3), ('good', 1), ('huge', 5), ('knew', 1), ('secret', 6), ('kept', 4), ('word', 2), ('keeping', 2), ('driving', 1), ('crazy', 1), ('went', 1), ('mountain', 1)])\n",
            "[[1, 5], [1, 5], [1, 3, 5], [2], [2, 4, 3, 2], [3, 2], [1, 4], [1, 4], [1, 4, 2], [3, 2, 1], [1, 3]]\n",
            "\n",
            "단어 OOV의 인덱스 : 1\n",
            "[[2, 6], [2, 1, 6], [2, 4, 6], [1, 3], [3, 5, 4, 3], [4, 3], [2, 5, 1], [2, 5, 1], [2, 5, 3], [1, 1, 4, 3, 1, 2, 1], [2, 1, 4, 1]]\n"
          ],
          "name": "stdout"
        }
      ]
    }
  ]
}