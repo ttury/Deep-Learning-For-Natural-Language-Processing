{
  "nbformat": 4,
  "nbformat_minor": 0,
  "metadata": {
    "colab": {
      "name": "Series&DataFrame",
      "provenance": [],
      "collapsed_sections": [],
      "authorship_tag": "ABX9TyO5o1XCMnFxGuCoYeA+C1pL",
      "include_colab_link": true
    },
    "kernelspec": {
      "name": "python3",
      "display_name": "Python 3"
    }
  },
  "cells": [
    {
      "cell_type": "markdown",
      "metadata": {
        "id": "view-in-github",
        "colab_type": "text"
      },
      "source": [
        "<a href=\"https://colab.research.google.com/github/ttury/Deep-Learning-For-Natural-Language-Processing/blob/master/Series%26DataFrame.ipynb\" target=\"_parent\"><img src=\"https://colab.research.google.com/assets/colab-badge.svg\" alt=\"Open In Colab\"/></a>"
      ]
    },
    {
      "cell_type": "code",
      "metadata": {
        "id": "jZ9cFZ-EiHlp",
        "outputId": "a4b6ffe7-2669-453a-d03d-9d26bbb2ce09",
        "colab": {
          "base_uri": "https://localhost:8080/",
          "height": 125
        }
      },
      "source": [
        "import pandas as pd\n",
        "\n",
        "index = [\"class 1\", \"class 2\", \"class 3\"]\n",
        "values = [\"10101\", \"10201\", \"10301\"]\n",
        "sr = pd.Series(values, index=index)\n",
        "print(sr)\n",
        "print(sr.index)\n",
        "print(sr.values)"
      ],
      "execution_count": null,
      "outputs": [
        {
          "output_type": "stream",
          "text": [
            "class 1    10101\n",
            "class 2    10201\n",
            "class 3    10301\n",
            "dtype: object\n",
            "Index(['class 1', 'class 2', 'class 3'], dtype='object')\n",
            "['10101' '10201' '10301']\n"
          ],
          "name": "stdout"
        }
      ]
    },
    {
      "cell_type": "code",
      "metadata": {
        "id": "Ys3QEA-Spjed",
        "outputId": "64ffb999-556a-45e8-f6f2-5dcdccd9c5b5",
        "colab": {
          "base_uri": "https://localhost:8080/",
          "height": 305
        }
      },
      "source": [
        "import pandas as pd\n",
        "\n",
        "index = ['class 1', 'class 2', 'class 3']\n",
        "columns = ['first', 'second', 'third']\n",
        "values = [[10101, 10102, 10103],\n",
        "          [10201, 10202, 10203],\n",
        "          [10301, 10302, 10303]]\n",
        "df = pd.DataFrame(values, index=index, columns=columns)\n",
        "print(df)\n",
        "\n",
        "data_list = [[10101, 10102, 10103],\n",
        "             [10201, 10202, 10203],\n",
        "             [10301, 10302, 10303]]\n",
        "df_list = pd.DataFrame(data_list)\n",
        "print(df_list)\n",
        "\n",
        "data_dict = {'first' : [10101, 10102, 10103],\n",
        "             'second' : [10201, 10202, 10203],\n",
        "             'third' : [10301, 10302, 10303]}\n",
        "df_dict = pd.DataFrame(data_dict)\n",
        "print(df_dict)\n",
        "\n",
        "df_csv = pd.read_csv(\"student_list.csv\")\n",
        "print(df_csv)"
      ],
      "execution_count": null,
      "outputs": [
        {
          "output_type": "stream",
          "text": [
            "         first  second  third\n",
            "class 1  10101   10102  10103\n",
            "class 2  10201   10202  10203\n",
            "class 3  10301   10302  10303\n",
            "       0      1      2\n",
            "0  10101  10102  10103\n",
            "1  10201  10202  10203\n",
            "2  10301  10302  10303\n",
            "   first  second  third\n",
            "0  10101   10201  10301\n",
            "1  10102   10202  10302\n",
            "2  10103   10203  10303\n",
            "   student id name grade        hobby favorite\n",
            "0       10101   kj     A  programming    pride\n",
            "1       10102   jy     B    animation     time\n",
            "2       10103   sw     C    overwatch  friends\n"
          ],
          "name": "stdout"
        }
      ]
    }
  ]
}