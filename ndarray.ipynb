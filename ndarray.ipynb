{
  "nbformat": 4,
  "nbformat_minor": 0,
  "metadata": {
    "colab": {
      "name": "ndarray.ipynb",
      "provenance": [],
      "collapsed_sections": [],
      "authorship_tag": "ABX9TyNAvmFQh3FX4M/4pZKbzu6N",
      "include_colab_link": true
    },
    "kernelspec": {
      "name": "python3",
      "display_name": "Python 3"
    }
  },
  "cells": [
    {
      "cell_type": "markdown",
      "metadata": {
        "id": "view-in-github",
        "colab_type": "text"
      },
      "source": [
        "<a href=\"https://colab.research.google.com/github/ttury/Deep-Learning-For-Natural-Language-Processing/blob/master/ndarray.ipynb\" target=\"_parent\"><img src=\"https://colab.research.google.com/assets/colab-badge.svg\" alt=\"Open In Colab\"/></a>"
      ]
    },
    {
      "cell_type": "code",
      "metadata": {
        "id": "EJ9CDzyKDzCE",
        "outputId": "44d4eb40-4436-4d81-de22-2028dc1770c2",
        "colab": {
          "base_uri": "https://localhost:8080/",
          "height": 827
        }
      },
      "source": [
        "import numpy as np\n",
        "a = np.array([1, 2, 3, 4, 5])\n",
        "print(a)\n",
        "print()\n",
        "\n",
        "b = np.array([[11, 12], [21, 22], [31, 32]])\n",
        "print(b)\n",
        "print()\n",
        "\n",
        "print(b.ndim)\n",
        "print(b.shape)\n",
        "print()\n",
        "\n",
        "matrix_zeros = np.zeros((3, 3))\n",
        "print(matrix_zeros)\n",
        "print()\n",
        "\n",
        "matrix_ones = np.ones((3, 3))\n",
        "print(matrix_ones)\n",
        "print()\n",
        "\n",
        "matrix_eyes = np.eye(3)\n",
        "print(matrix_eyes)\n",
        "print()\n",
        "\n",
        "matrix_random = np.random.random((3, 3))\n",
        "print(matrix_random)\n",
        "print()\n",
        "\n",
        "matrix_arrange = np.arange(10, 91, 10)\n",
        "print(matrix_arrange)\n",
        "print()\n",
        "\n",
        "matrix_reshape = np.array(np.arange(9)).reshape((3, 3))\n",
        "print(matrix_reshape)\n",
        "print()\n",
        "\n",
        "matrix_sliced = np.array([[1, 2, 3], [4, 5, 6]])\n",
        "matrix_slicing = matrix_sliced[0:2, 1:3]\n",
        "matrix_slicing_row = matrix_sliced[0, :]\n",
        "matrix_slicing_column = matrix_sliced[:, 0]\n",
        "print(matrix_slicing)\n",
        "print(matrix_slicing_row)\n",
        "print(matrix_slicing_column)\n",
        "print()\n",
        "\n",
        "matrix_indexed = np.array([[11, 12, 13], [21, 22, 23], [31, 32, 33]])\n",
        "matrix_indexing = matrix_indexed[[0, 2], [1, 0]]\n",
        "print(matrix_indexing)\n",
        "print()\n",
        "\n",
        "x = np.array([1, 2, 3])\n",
        "y = np.array([4, 5, 6])\n",
        "print(x + y)\n",
        "print(x - y)\n",
        "print(x * y)\n",
        "print(x / y)\n",
        "print()\n",
        "\n",
        "matrix1 = np.array([[1,2],[3,4]])\n",
        "matrix2 = np.array([[5,6],[7,8]])\n",
        "matrix_dot = np.dot(matrix1, matrix2)\n",
        "print(matrix_dot)"
      ],
      "execution_count": 27,
      "outputs": [
        {
          "output_type": "stream",
          "text": [
            "[1 2 3 4 5]\n",
            "\n",
            "[[11 12]\n",
            " [21 22]\n",
            " [31 32]]\n",
            "\n",
            "2\n",
            "(3, 2)\n",
            "\n",
            "[[0. 0. 0.]\n",
            " [0. 0. 0.]\n",
            " [0. 0. 0.]]\n",
            "\n",
            "[[1. 1. 1.]\n",
            " [1. 1. 1.]\n",
            " [1. 1. 1.]]\n",
            "\n",
            "[[1. 0. 0.]\n",
            " [0. 1. 0.]\n",
            " [0. 0. 1.]]\n",
            "\n",
            "[[0.41558897 0.2806207  0.28398439]\n",
            " [0.71385557 0.15371651 0.19293766]\n",
            " [0.44049556 0.27275658 0.12580945]]\n",
            "\n",
            "[10 20 30 40 50 60 70 80 90]\n",
            "\n",
            "[[0 1 2]\n",
            " [3 4 5]\n",
            " [6 7 8]]\n",
            "\n",
            "[[2 3]\n",
            " [5 6]]\n",
            "[1 2 3]\n",
            "[1 4]\n",
            "\n",
            "[12 31]\n",
            "\n",
            "[5 7 9]\n",
            "[-3 -3 -3]\n",
            "[ 4 10 18]\n",
            "[0.25 0.4  0.5 ]\n",
            "\n",
            "[[19 22]\n",
            " [43 50]]\n"
          ],
          "name": "stdout"
        }
      ]
    }
  ]
}