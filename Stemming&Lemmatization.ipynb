{
  "nbformat": 4,
  "nbformat_minor": 0,
  "metadata": {
    "colab": {
      "name": "Stemming&Lemmatization.ipynb",
      "provenance": [],
      "authorship_tag": "ABX9TyNC9vZCRkLUj6v+Yr7P3TuQ",
      "include_colab_link": true
    },
    "kernelspec": {
      "name": "python3",
      "display_name": "Python 3"
    },
    "language_info": {
      "name": "python"
    }
  },
  "cells": [
    {
      "cell_type": "markdown",
      "metadata": {
        "id": "view-in-github",
        "colab_type": "text"
      },
      "source": [
        "<a href=\"https://colab.research.google.com/github/ttury/Deep-Learning-For-Natural-Language-Processing/blob/master/Stemming%26Lemmatization.ipynb\" target=\"_parent\"><img src=\"https://colab.research.google.com/assets/colab-badge.svg\" alt=\"Open In Colab\"/></a>"
      ]
    },
    {
      "cell_type": "code",
      "metadata": {
        "colab": {
          "base_uri": "https://localhost:8080/"
        },
        "id": "KPTphoXjL-UD",
        "outputId": "adc9b8a4-1a2c-49c6-e9c9-21b1f08041b7"
      },
      "source": [
        "import nltk\n",
        "nltk.download('wordnet')\n",
        "nltk.download('punkt')"
      ],
      "execution_count": null,
      "outputs": [
        {
          "output_type": "stream",
          "text": [
            "[nltk_data] Downloading package wordnet to /root/nltk_data...\n",
            "[nltk_data]   Package wordnet is already up-to-date!\n",
            "[nltk_data] Downloading package punkt to /root/nltk_data...\n",
            "[nltk_data]   Unzipping tokenizers/punkt.zip.\n"
          ],
          "name": "stdout"
        },
        {
          "output_type": "execute_result",
          "data": {
            "text/plain": [
              "True"
            ]
          },
          "metadata": {
            "tags": []
          },
          "execution_count": 18
        }
      ]
    },
    {
      "cell_type": "markdown",
      "metadata": {
        "id": "A_muEiYiTPTT"
      },
      "source": [
        "# 표제어 추출(Lemmatization)\n",
        "\n",
        "> am, are, is -> be\n",
        "\n",
        "> 어간(stem)과 접사(affix)를 분리\n",
        "\n",
        "> 어간 추출에 비해 단어의 형태가 보존됨\n",
        "\n",
        "---\n",
        "\n",
        "## WordNetLemmatizer\n",
        "\n",
        "`nltk.download('wordnet')`\n",
        "\n",
        "> 품사 정보(POS tag)를 입력해야 정확해짐\n"
      ]
    },
    {
      "cell_type": "code",
      "metadata": {
        "colab": {
          "base_uri": "https://localhost:8080/"
        },
        "id": "KD0SGvBF8MKx",
        "outputId": "49232c68-6759-45b8-d2d6-3b8f024fac1c"
      },
      "source": [
        "from nltk.stem import WordNetLemmatizer\n",
        "\n",
        "n = WordNetLemmatizer()\n",
        "\n",
        "words = ['policy', 'doing', 'organization', 'have', 'going', 'love', 'lives', 'fly', 'dies', 'watched', 'has', 'starting']\n",
        "print([n.lemmatize(word) for word in words])\n",
        "print()\n",
        "\n",
        "print(n.lemmatize('dies', 'v'))\n",
        "print(n.lemmatize('watched', 'v'))\n",
        "print(n.lemmatize('has', 'v'))"
      ],
      "execution_count": null,
      "outputs": [
        {
          "output_type": "stream",
          "text": [
            "['policy', 'doing', 'organization', 'have', 'going', 'love', 'life', 'fly', 'dy', 'watched', 'ha', 'starting']\n",
            "die\n",
            "watch\n",
            "have\n"
          ],
          "name": "stdout"
        }
      ]
    },
    {
      "cell_type": "markdown",
      "metadata": {
        "id": "CD5xdk9FU9qj"
      },
      "source": [
        "# 어간 추출(Stemming)\n",
        "\n",
        "\n",
        "> 정해진 규칙에 따라 단어의 어미를 자르는 어림짐작의 작업\n",
        "\n",
        "> 일반적으로 표제어 추출보다 빠르다\n",
        "\n",
        "---\n",
        "\n",
        "## 포터 알고리즘(Porter Algorithm)\n",
        "\n",
        "`nltk.download('punkt')`\n",
        "\n",
        "> 영어 어간 추출에서 가장 효과적이라고 알려져 있다\n",
        "\n",
        "> -alize -> -al\n",
        "\n",
        "> -ance -> x\n",
        "\n",
        "> -ical -> -ic\n",
        "\n",
        "---\n",
        "\n",
        "## 랭커스터 알고리즘(Lancaster Algorithm)\n",
        "\n",
        "`nltk.download('punkt')`\n"
      ]
    },
    {
      "cell_type": "code",
      "metadata": {
        "colab": {
          "base_uri": "https://localhost:8080/"
        },
        "id": "rM1nZbYfMoBx",
        "outputId": "7dc41735-fee7-4964-adff-7f8e8910513b"
      },
      "source": [
        "from nltk.stem import PorterStemmer\n",
        "from nltk.tokenize import word_tokenize\n",
        "\n",
        "s = PorterStemmer()\n",
        "text = \"This was not the map we found in Billy Bones's chest, but an accurate copy, complete in all things--names and heights and soundings--with the single exception of the red crosses and the written notes.\"\n",
        "words = word_tokenize(text)\n",
        "print(words)\n",
        "print([s.stem(word) for word in words])\n",
        "print()\n",
        "\n",
        "words = ['formalize', 'allowance', 'electrical']\n",
        "print([s.stem(word) for word in words])"
      ],
      "execution_count": null,
      "outputs": [
        {
          "output_type": "stream",
          "text": [
            "['This', 'was', 'not', 'the', 'map', 'we', 'found', 'in', 'Billy', 'Bones', \"'s\", 'chest', ',', 'but', 'an', 'accurate', 'copy', ',', 'complete', 'in', 'all', 'things', '--', 'names', 'and', 'heights', 'and', 'soundings', '--', 'with', 'the', 'single', 'exception', 'of', 'the', 'red', 'crosses', 'and', 'the', 'written', 'notes', '.']\n",
            "['thi', 'wa', 'not', 'the', 'map', 'we', 'found', 'in', 'billi', 'bone', \"'s\", 'chest', ',', 'but', 'an', 'accur', 'copi', ',', 'complet', 'in', 'all', 'thing', '--', 'name', 'and', 'height', 'and', 'sound', '--', 'with', 'the', 'singl', 'except', 'of', 'the', 'red', 'cross', 'and', 'the', 'written', 'note', '.']\n",
            "\n",
            "['formal', 'allow', 'electr']\n"
          ],
          "name": "stdout"
        }
      ]
    },
    {
      "cell_type": "code",
      "metadata": {
        "colab": {
          "base_uri": "https://localhost:8080/"
        },
        "id": "UA81u9tNRf2A",
        "outputId": "d42e669a-6ca6-41ce-c8e7-e0d2905cacfd"
      },
      "source": [
        "from nltk.stem import PorterStemmer\n",
        "from nltk.stem import LancasterStemmer\n",
        "\n",
        "porter = PorterStemmer()\n",
        "lancaster = LancasterStemmer()\n",
        "\n",
        "words = ['policy', 'doing', 'organization', 'have', 'going', 'love', 'lives', 'fly', 'dies', 'watched', 'has', 'starting']\n",
        "\n",
        "print([porter.stem(word) for word in words])\n",
        "print()\n",
        "print([lancaster.stem(word) for word in words])\n"
      ],
      "execution_count": null,
      "outputs": [
        {
          "output_type": "stream",
          "text": [
            "['polici', 'do', 'organ', 'have', 'go', 'love', 'live', 'fli', 'die', 'watch', 'ha', 'start']\n",
            "\n",
            "['policy', 'doing', 'org', 'hav', 'going', 'lov', 'liv', 'fly', 'die', 'watch', 'has', 'start']\n"
          ],
          "name": "stdout"
        }
      ]
    }
  ]
}