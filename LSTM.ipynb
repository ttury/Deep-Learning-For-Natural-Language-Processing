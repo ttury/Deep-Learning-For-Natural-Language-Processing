{
  "nbformat": 4,
  "nbformat_minor": 0,
  "metadata": {
    "colab": {
      "name": "LSTM.ipynb",
      "provenance": [],
      "authorship_tag": "ABX9TyOP8SfGklf69v/hfgahhI8p",
      "include_colab_link": true
    },
    "kernelspec": {
      "name": "python3",
      "display_name": "Python 3"
    },
    "language_info": {
      "name": "python"
    }
  },
  "cells": [
    {
      "cell_type": "markdown",
      "metadata": {
        "id": "view-in-github",
        "colab_type": "text"
      },
      "source": [
        "<a href=\"https://colab.research.google.com/github/ttury/Deep-Learning-For-Natural-Language-Processing/blob/master/LSTM.ipynb\" target=\"_parent\"><img src=\"https://colab.research.google.com/assets/colab-badge.svg\" alt=\"Open In Colab\"/></a>"
      ]
    },
    {
      "cell_type": "code",
      "metadata": {
        "colab": {
          "base_uri": "https://localhost:8080/"
        },
        "id": "Z_S9PzRcPh6w",
        "outputId": "0879bb8a-3f57-4e06-d5f9-711d325ab944"
      },
      "source": [
        "import numpy as np\n",
        "import tensorflow as tf\n",
        "from tensorflow.keras.layers import SimpleRNN, LSTM, Bidirectional\n",
        "\n",
        "\n",
        "# 3D tensor: batch_size = 1, timesteps = 4, input_dim = 5\n",
        "x_train = [[[0.1, 4.2, 1.5, 1.1, 2.8],\n",
        "           [1.0, 3.1, 2.5, 0.7, 1.1],\n",
        "           [0.3, 2.1, 1.5, 2.1, 0.1],\n",
        "           [2.2, 1.4, 0.5, 0.9, 1.1]]]\n",
        "x_train = np.array(x_train, dtype=np.float32)\n",
        "print(x_train.shape)"
      ],
      "execution_count": 4,
      "outputs": [
        {
          "output_type": "stream",
          "text": [
            "[[[0.1 4.2 1.5 1.1 2.8]\n",
            "  [1.  3.1 2.5 0.7 1.1]\n",
            "  [0.3 2.1 1.5 2.1 0.1]\n",
            "  [2.2 1.4 0.5 0.9 1.1]]]\n"
          ],
          "name": "stdout"
        }
      ]
    },
    {
      "cell_type": "code",
      "metadata": {
        "colab": {
          "base_uri": "https://localhost:8080/"
        },
        "id": "kvn8LPG1R6mU",
        "outputId": "3a6181df-fe73-4aae-d1fb-a65a765c5926"
      },
      "source": [
        "# Vanila RNN\n",
        "\n",
        "rnn = SimpleRNN(3)\n",
        "# hidden_size=3, return_sequences=False, return_state=False\n",
        "hidden_state = rnn(x_train) # 3차원 벡터\n",
        "\n",
        "print('hidden state : {}, shape : {}'.format(hidden_state, hidden_state.shape))\n",
        "# (1 x 3) 크기 2D 텐서 출력"
      ],
      "execution_count": 6,
      "outputs": [
        {
          "output_type": "stream",
          "text": [
            "hidden state : [[ 0.9451857  -0.99160755 -0.8591239 ]], shape: (1, 3)\n"
          ],
          "name": "stdout"
        }
      ]
    },
    {
      "cell_type": "code",
      "metadata": {
        "colab": {
          "base_uri": "https://localhost:8080/"
        },
        "id": "Og_7Ts2gSjmW",
        "outputId": "c83ed4ff-3125-41c5-b772-55ab7b22170b"
      },
      "source": [
        "rnn = SimpleRNN(3, return_sequences=True)\n",
        "# return_sequences=True -> 모든 시점의 은닉 상태 출력\n",
        "hidden_states = rnn(x_train)\n",
        "\n",
        "print('hidden states : {}, shape : {}'.format(hidden_states, hidden_states.shape))\n",
        "# (1 x 4 x 3) 크기 3D 텐서 출력"
      ],
      "execution_count": 11,
      "outputs": [
        {
          "output_type": "stream",
          "text": [
            "hidden states : [[[ 0.9580028  -0.995145   -0.06869399]\n",
            "  [ 0.88877547 -0.8864673   0.24821901]\n",
            "  [ 0.9764063  -0.47579268 -0.63838434]\n",
            "  [-0.94258726 -0.17061315 -0.8455981 ]]], shape : (1, 4, 3)\n"
          ],
          "name": "stdout"
        }
      ]
    },
    {
      "cell_type": "code",
      "metadata": {
        "colab": {
          "base_uri": "https://localhost:8080/"
        },
        "id": "8w0IAdXxTNrb",
        "outputId": "a902eee7-093a-42fc-f1d7-33764c528d52"
      },
      "source": [
        "rnn = SimpleRNN(3, return_sequences=True, return_state=True)\n",
        "# return_state=True -> 마지막 시점의 은닉 상태 출력\n",
        "hidden_states, last_state = rnn(x_train)\n",
        "\n",
        "print('hidden states : {}, shape : {}'.format(hidden_states, hidden_states.shape))\n",
        "print('last hidden state : {}, shape : {}'.format(last_state, last_state.shape))"
      ],
      "execution_count": 13,
      "outputs": [
        {
          "output_type": "stream",
          "text": [
            "hidden states : [[[-0.99864423 -0.24700049  0.9042699 ]\n",
            "  [-0.98120105  0.9859616   0.41887635]\n",
            "  [-0.98417175  0.9810889   0.96586406]\n",
            "  [-0.77088267  0.9594653   0.9841313 ]]], shape : (1, 4, 3)\n",
            "last hidden state : [[-0.77088267  0.9594653   0.9841313 ]], shape : (1, 3)\n"
          ],
          "name": "stdout"
        }
      ]
    },
    {
      "cell_type": "code",
      "metadata": {
        "colab": {
          "base_uri": "https://localhost:8080/"
        },
        "id": "Ehh8AcrCUBVs",
        "outputId": "980d6d66-3937-41b1-d397-bfe1237ff7ce"
      },
      "source": [
        "rnn = SimpleRNN(3, return_sequences=False, return_state=True)\n",
        "# return_state=True -> 마지막 시점의 은닉 상태 출력\n",
        "hidden_states, last_state = rnn(x_train)\n",
        "\n",
        "print('hidden states : {}, shape : {}'.format(hidden_states, hidden_states.shape))\n",
        "print('last hidden state : {}, shape : {}'.format(last_state, last_state.shape))"
      ],
      "execution_count": 15,
      "outputs": [
        {
          "output_type": "stream",
          "text": [
            "hidden states : [[ 0.45200625 -0.6268765  -0.8058161 ]], shape : (1, 3)\n",
            "last hidden state : [[ 0.45200625 -0.6268765  -0.8058161 ]], shape : (1, 3)\n"
          ],
          "name": "stdout"
        }
      ]
    },
    {
      "cell_type": "code",
      "metadata": {
        "colab": {
          "base_uri": "https://localhost:8080/"
        },
        "id": "y10tRE6OUIco",
        "outputId": "e0d53637-cd30-4aa8-be6a-32b55219ed84"
      },
      "source": [
        "# LSTM\n",
        "\n",
        "lstm = LSTM(3, return_sequences=False, return_state=True)\n",
        "# LSTM의 경우 return_state=True -> 마지막 시점의 은닉 상태와 셀 상태 출력\n",
        "hidden_state, last_state, last_cell_state = lstm(x_train)\n",
        "\n",
        "print('hidden state : {}, shape : {}'.format(hidden_state, hidden_state.shape))\n",
        "print('last hidden state : {}, shape : {}'.format(last_state, last_state.shape))\n",
        "print('last cell state : {}, shape : {}'.format(last_cell_state, last_cell_state.shape))"
      ],
      "execution_count": 17,
      "outputs": [
        {
          "output_type": "stream",
          "text": [
            "hidden state : [[ 0.02189064 -0.25749445 -0.39719772]], shape : (1, 3)\n",
            "last hidden state : [[ 0.02189064 -0.25749445 -0.39719772]], shape : (1, 3)\n",
            "last cell state : [[ 0.04299979 -0.5036748  -0.7481016 ]], shape : (1, 3)\n"
          ],
          "name": "stdout"
        }
      ]
    },
    {
      "cell_type": "code",
      "metadata": {
        "colab": {
          "base_uri": "https://localhost:8080/"
        },
        "id": "e4wlp4TQUv6B",
        "outputId": "f6df7051-5610-4c1a-b736-574830e5341c"
      },
      "source": [
        "lstm = LSTM(3, return_sequences=True, return_state=True)\n",
        "# LSTM의 경우 return_state=True -> 마지막 시점의 은닉 상태와 셀 상태 출력\n",
        "hidden_states, last_state, last_cell_state = lstm(x_train)\n",
        "\n",
        "print('hidden states : {}, shape : {}'.format(hidden_states, hidden_states.shape))\n",
        "print('last hidden state : {}, shape : {}'.format(last_state, last_state.shape))\n",
        "print('last cell state : {}, shape : {}'.format(last_cell_state, last_cell_state.shape))"
      ],
      "execution_count": 20,
      "outputs": [
        {
          "output_type": "stream",
          "text": [
            "hidden states : [[[-0.00822654 -0.20784229 -0.2609498 ]\n",
            "  [-0.01817766  0.35369754 -0.51294506]\n",
            "  [-0.05708222  0.4261345  -0.66671336]\n",
            "  [-0.0560012   0.5194714  -0.65003467]]], shape : (1, 4, 3)\n",
            "last hidden state : [[-0.0560012   0.5194714  -0.65003467]], shape : (1, 3)\n",
            "last cell state : [[-1.2356095   0.81141484 -1.5364548 ]], shape : (1, 3)\n"
          ],
          "name": "stdout"
        }
      ]
    },
    {
      "cell_type": "code",
      "metadata": {
        "colab": {
          "base_uri": "https://localhost:8080/"
        },
        "id": "a_9pOldbVN3-",
        "outputId": "5ae8c3ba-1a21-44f3-dccd-7796f8c399cd"
      },
      "source": [
        "k_init = tf.keras.initializers.Constant(value=0.1)\n",
        "b_init = tf.keras.initializers.Constant(value=0)\n",
        "r_init = tf.keras.initializers.Constant(value=0.1)\n",
        "\n",
        "print(k_init, b_init)"
      ],
      "execution_count": 23,
      "outputs": [
        {
          "output_type": "stream",
          "text": [
            "<tensorflow.python.keras.initializers.initializers_v2.Constant object at 0x7f58e15650d0> <tensorflow.python.keras.initializers.initializers_v2.Constant object at 0x7f58e15656d0>\n"
          ],
          "name": "stdout"
        }
      ]
    },
    {
      "cell_type": "code",
      "metadata": {
        "colab": {
          "base_uri": "https://localhost:8080/"
        },
        "id": "YJ_0tAfSVhit",
        "outputId": "246d9bd5-edca-428c-d976-5c2e81c8562b"
      },
      "source": [
        "# Bidirectial LSTM\n",
        "\n",
        "bilstm = Bidirectional(LSTM(3, return_sequences=False, return_state=True,\n",
        "                            kernel_initializer=k_init, bias_initializer=b_init, recurrent_initializer=r_init))\n",
        "hidden_states, forward_h, forward_c, backward_h, backward_c = bilstm(x_train)\n",
        "\n",
        "print('hidden states : {}, shape : {}'.format(hidden_states, hidden_states.shape))\n",
        "# 양방향 LSTM에서 return_sequences가 False인 경우 정방향 LSTM의 (왼쪽에서)마지막 시점과 역방향 LSTM의 (오른쪽에서)첫번째 시점의 은닉 상태만 연결된 채 반환됨\n",
        "print('forward state : {}, shape : {}'.format(forward_h, forward_h.shape))\n",
        "print('backward state : {}, shape : {}'.format(backward_h, backward_h.shape))\n",
        "# return_state가 True인 경우 정방향 LSTM의 (왼쪽에서)마지막 시점의 은닉 상태와 역방향 LSTM의 (오른쪽에서)첫번째 시점의 은닉 상태를 따로따로 반환함"
      ],
      "execution_count": 26,
      "outputs": [
        {
          "output_type": "stream",
          "text": [
            "hidden states : [[0.63031393 0.63031393 0.63031393 0.7038734  0.7038734  0.7038734 ]], shape : (1, 6)\n",
            "forward state : [[0.63031393 0.63031393 0.63031393]], shape : (1, 3)\n",
            "backward state : [[0.7038734 0.7038734 0.7038734]], shape : (1, 3)\n"
          ],
          "name": "stdout"
        }
      ]
    },
    {
      "cell_type": "code",
      "metadata": {
        "colab": {
          "base_uri": "https://localhost:8080/"
        },
        "id": "mY9p5t8dXzQv",
        "outputId": "69c13e39-ad74-49ac-d907-c3fe3a4dd641"
      },
      "source": [
        "bilstm = Bidirectional(LSTM(3, return_sequences=True, return_state=True,\n",
        "                            kernel_initializer=k_init, bias_initializer=b_init, recurrent_initializer=r_init))\n",
        "hidden_states, forward_h, forward_c, backward_h, backward_c = bilstm(x_train)\n",
        "\n",
        "print('hidden states : {}, shape : {}'.format(hidden_states, hidden_states.shape))\n",
        "# 양방향 LSTM에서 return_sequences가 True인 경우 정방향 LSTM의 (왼쪽에서)n번째 시점과 역방향 LSTM의 (오른쪽에서)n번째 시점의 은닉 상태가 연결되어 반환됨\n",
        "print('forward state : {}, shape : {}'.format(forward_h, forward_h.shape))\n",
        "print('backward state : {}, shape : {}'.format(backward_h, backward_h.shape))\n",
        "# return_state가 True인 경우 정방향 LSTM의 (왼쪽에서)마지막 시점의 은닉 상태와 역방향 LSTM의 (오른쪽에서)첫번째 시점의 은닉 상태를 따로따로 반환함"
      ],
      "execution_count": 27,
      "outputs": [
        {
          "output_type": "stream",
          "text": [
            "hidden states : [[[0.35906473 0.35906473 0.35906473 0.7038734  0.7038734  0.7038734 ]\n",
            "  [0.5511133  0.5511133  0.5511133  0.58863586 0.58863586 0.58863586]\n",
            "  [0.59115744 0.59115744 0.59115744 0.3951699  0.3951699  0.3951699 ]\n",
            "  [0.63031393 0.63031393 0.63031393 0.21942244 0.21942244 0.21942244]]], shape : (1, 4, 6)\n",
            "forward state : [[0.63031393 0.63031393 0.63031393]], shape : (1, 3)\n",
            "backward state : [[0.7038734 0.7038734 0.7038734]], shape : (1, 3)\n"
          ],
          "name": "stdout"
        }
      ]
    }
  ]
}