{
  "nbformat": 4,
  "nbformat_minor": 0,
  "metadata": {
    "colab": {
      "name": "Similarity_Methods.ipynb",
      "provenance": [],
      "collapsed_sections": [],
      "authorship_tag": "ABX9TyPaWqJbE6MfrbZ5jzLi419o",
      "include_colab_link": true
    },
    "kernelspec": {
      "name": "python3",
      "display_name": "Python 3"
    },
    "language_info": {
      "name": "python"
    }
  },
  "cells": [
    {
      "cell_type": "markdown",
      "metadata": {
        "id": "view-in-github",
        "colab_type": "text"
      },
      "source": [
        "<a href=\"https://colab.research.google.com/github/ttury/Deep-Learning-For-Natural-Language-Processing/blob/master/Similarity_Methods.ipynb\" target=\"_parent\"><img src=\"https://colab.research.google.com/assets/colab-badge.svg\" alt=\"Open In Colab\"/></a>"
      ]
    },
    {
      "cell_type": "markdown",
      "metadata": {
        "id": "pudIMUs_Tj_w"
      },
      "source": [
        "# **Similarity Methods**\n",
        "<br/>\n",
        "\n",
        "## Euclidean distance\n",
        "---\n",
        "> DTM에 사용되는 단어의 수만큼의 다차원 공간에서 두 좌표 사이의 거리가 가까울수록 유사함\n",
        "\n",
        "> $$\\sqrt{(q_{1} - p_{1})^{2} + (q_{2} - p_{2})^{2} + \\cdots + (q_{i} - p_{i})^{2}} = \\sqrt{\\sum_{i=1}^{n}(q_{i} - p_{i})^{2}}$$\n",
        "\n",
        "<br/>\n",
        "\n",
        "## Jaccard similarity\n",
        "---\n",
        "> 두 단어 집합의 교집합이 클수록 유사함\n",
        "\n",
        "> $$J(A,B) = \\frac{A \\cap B}{A \\cup B}$$\n",
        "\n",
        "<br/>\n",
        "\n",
        "https://wikidocs.net/24654\n"
      ]
    },
    {
      "cell_type": "code",
      "metadata": {
        "colab": {
          "base_uri": "https://localhost:8080/"
        },
        "id": "MDNrx4oaQZ-9",
        "outputId": "3b76e0f5-88e7-4496-e0aa-8ccb7e689509"
      },
      "source": [
        "# 유클리드 거리(Euclidean distance)\n",
        "\n",
        "import numpy as np\n",
        "def dist(x, y):\n",
        "  return np.sqrt(np.sum((x-y)**2))\n",
        "\n",
        "doc1 = np.array((2, 3, 0, 1))\n",
        "doc2 = np.array((1, 2, 3, 1))\n",
        "doc3 = np.array((2, 1, 2, 2))\n",
        "docQ = np.array((1, 1, 0, 1))\n",
        "\n",
        "print(dist(doc1, docQ))\n",
        "print(dist(doc2, docQ))\n",
        "print(dist(doc3, docQ))"
      ],
      "execution_count": 5,
      "outputs": [
        {
          "output_type": "stream",
          "text": [
            "2.23606797749979\n",
            "3.1622776601683795\n",
            "2.449489742783178\n"
          ],
          "name": "stdout"
        }
      ]
    },
    {
      "cell_type": "code",
      "metadata": {
        "colab": {
          "base_uri": "https://localhost:8080/"
        },
        "id": "2moiyyklShoI",
        "outputId": "1e0bb11a-4f0d-4e25-91c3-a3439224b919"
      },
      "source": [
        "# 자카드 유사도(Jaccard similarity)\n",
        "\n",
        "doc1 = \"apple banana everyone like likey watch card holder\"\n",
        "doc2 = \"apple banana coupon passport love you\"\n",
        "\n",
        "tokenized_doc1 = doc1.split()\n",
        "tokenized_doc2 = doc2.split()\n",
        "\n",
        "print(tokenized_doc1)\n",
        "print(tokenized_doc2)\n",
        "print()\n",
        "\n",
        "union_set = set(tokenized_doc1).union(set(tokenized_doc2))\n",
        "print(union_set)\n",
        "\n",
        "intersection_set = set(tokenized_doc1).intersection(set(tokenized_doc2))\n",
        "print(intersection_set)\n",
        "\n",
        "print(len(intersection_set) / len(union_set))"
      ],
      "execution_count": 9,
      "outputs": [
        {
          "output_type": "stream",
          "text": [
            "['apple', 'banana', 'everyone', 'like', 'likey', 'watch', 'card', 'holder']\n",
            "['apple', 'banana', 'coupon', 'passport', 'love', 'you']\n",
            "\n",
            "{'holder', 'like', 'likey', 'you', 'watch', 'coupon', 'everyone', 'love', 'apple', 'card', 'passport', 'banana'}\n",
            "{'banana', 'apple'}\n",
            "0.16666666666666666\n"
          ],
          "name": "stdout"
        }
      ]
    }
  ]
}