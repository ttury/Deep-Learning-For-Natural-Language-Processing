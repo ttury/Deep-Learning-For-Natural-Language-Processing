{
  "nbformat": 4,
  "nbformat_minor": 0,
  "metadata": {
    "colab": {
      "name": "wiki_vector.ipynb",
      "provenance": [],
      "authorship_tag": "ABX9TyN6f5EkYcPf6C7WC+TJtkJb",
      "include_colab_link": true
    },
    "kernelspec": {
      "display_name": "Python 3",
      "name": "python3"
    },
    "language_info": {
      "name": "python"
    }
  },
  "cells": [
    {
      "cell_type": "markdown",
      "metadata": {
        "id": "view-in-github",
        "colab_type": "text"
      },
      "source": [
        "<a href=\"https://colab.research.google.com/github/ttury/Deep-Learning-For-Natural-Language-Processing/blob/master/wiki_vector.ipynb\" target=\"_parent\"><img src=\"https://colab.research.google.com/assets/colab-badge.svg\" alt=\"Open In Colab\"/></a>"
      ]
    },
    {
      "cell_type": "code",
      "metadata": {
        "colab": {
          "base_uri": "https://localhost:8080/"
        },
        "id": "uyDfB66wDxLz",
        "outputId": "e252bfee-c6f1-4727-edfa-d2cd4f7f8945"
      },
      "source": [
        "pip install wikiextractor\n",
        "\n",
        "# 위키피디아 파싱"
      ],
      "execution_count": null,
      "outputs": [
        {
          "name": "stdout",
          "output_type": "stream",
          "text": [
            "Collecting wikiextractor\n",
            "  Downloading wikiextractor-3.0.6-py3-none-any.whl (46 kB)\n",
            "\u001b[?25l\r\u001b[K     |███████                         | 10 kB 20.7 MB/s eta 0:00:01\r\u001b[K     |██████████████▏                 | 20 kB 6.0 MB/s eta 0:00:01\r\u001b[K     |█████████████████████▏          | 30 kB 4.2 MB/s eta 0:00:01\r\u001b[K     |████████████████████████████▎   | 40 kB 4.0 MB/s eta 0:00:01\r\u001b[K     |████████████████████████████████| 46 kB 933 kB/s \n",
            "\u001b[?25hInstalling collected packages: wikiextractor\n",
            "Successfully installed wikiextractor-3.0.6\n"
          ]
        }
      ]
    },
    {
      "cell_type": "code",
      "metadata": {
        "id": "9Dt81PM5D1Cq"
      },
      "source": [
        "!git clone https://github.com/SOMJANG/Mecab-ko-for-Google-Colab.git\n",
        "%cd Mecab-ko-for-Google-Colab\n",
        "!bash install_mecab-ko_on_colab190912.sh\n",
        "\n",
        "# 한국어 형태소 분석기 Mecab"
      ],
      "execution_count": null,
      "outputs": []
    },
    {
      "cell_type": "code",
      "metadata": {
        "colab": {
          "base_uri": "https://localhost:8080/"
        },
        "id": "NSQ6f1D-E_og",
        "outputId": "68f310fb-87d3-485f-c633-aebd0e4038c4"
      },
      "source": [
        "!wget https://dumps.wikimedia.org/kowiki/latest/kowiki-latest-pages-articles.xml.bz2"
      ],
      "execution_count": null,
      "outputs": [
        {
          "name": "stdout",
          "output_type": "stream",
          "text": [
            "--2021-11-11 08:26:37--  https://dumps.wikimedia.org/kowiki/latest/kowiki-latest-pages-articles.xml.bz2\n",
            "Resolving dumps.wikimedia.org (dumps.wikimedia.org)... 208.80.154.7, 2620:0:861:1:208:80:154:7\n",
            "Connecting to dumps.wikimedia.org (dumps.wikimedia.org)|208.80.154.7|:443... connected.\n",
            "HTTP request sent, awaiting response... 200 OK\n",
            "Length: 792404839 (756M) [application/octet-stream]\n",
            "Saving to: ‘kowiki-latest-pages-articles.xml.bz2’\n",
            "\n",
            "kowiki-latest-pages 100%[===================>] 755.70M  4.36MB/s    in 2m 49s  \n",
            "\n",
            "2021-11-11 08:29:27 (4.47 MB/s) - ‘kowiki-latest-pages-articles.xml.bz2’ saved [792404839/792404839]\n",
            "\n"
          ]
        }
      ]
    },
    {
      "cell_type": "code",
      "metadata": {
        "colab": {
          "base_uri": "https://localhost:8080/"
        },
        "id": "WCZRup3YGx5y",
        "outputId": "3b633623-c9dc-41ea-fcaa-2e8d99826c2a"
      },
      "source": [
        "!python -m wikiextractor.WikiExtractor kowiki-latest-pages-articles.xml.bz2"
      ],
      "execution_count": null,
      "outputs": [
        {
          "name": "stdout",
          "output_type": "stream",
          "text": [
            "INFO: Preprocessing 'kowiki-latest-pages-articles.xml.bz2' to collect template definitions: this may take some time.\n",
            "INFO: Preprocessed 100000 pages\n",
            "INFO: Preprocessed 200000 pages\n",
            "INFO: Preprocessed 300000 pages\n",
            "INFO: Preprocessed 400000 pages\n",
            "INFO: Preprocessed 500000 pages\n",
            "INFO: Preprocessed 600000 pages\n",
            "INFO: Preprocessed 700000 pages\n",
            "INFO: Preprocessed 800000 pages\n",
            "INFO: Preprocessed 900000 pages\n",
            "INFO: Preprocessed 1000000 pages\n",
            "INFO: Preprocessed 1100000 pages\n",
            "INFO: Preprocessed 1200000 pages\n",
            "INFO: Preprocessed 1300000 pages\n",
            "INFO: Preprocessed 1400000 pages\n",
            "INFO: Preprocessed 1500000 pages\n",
            "INFO: Preprocessed 1600000 pages\n",
            "INFO: Loaded 57566 templates in 383.9s\n",
            "INFO: Starting page extraction from kowiki-latest-pages-articles.xml.bz2.\n",
            "INFO: Using 1 extract processes.\n",
            "INFO: Extracted 100000 articles (702.7 art/s)\n",
            "INFO: Extracted 200000 articles (971.7 art/s)\n",
            "INFO: Extracted 300000 articles (1076.8 art/s)\n",
            "INFO: Extracted 400000 articles (1155.4 art/s)\n",
            "INFO: Extracted 500000 articles (1222.1 art/s)\n",
            "INFO: Extracted 600000 articles (1201.2 art/s)\n",
            "INFO: Extracted 700000 articles (1257.1 art/s)\n",
            "INFO: Extracted 800000 articles (1326.2 art/s)\n",
            "INFO: Extracted 900000 articles (2366.1 art/s)\n",
            "INFO: Extracted 1000000 articles (1910.7 art/s)\n",
            "INFO: Extracted 1100000 articles (1324.2 art/s)\n",
            "INFO: Extracted 1200000 articles (1380.8 art/s)\n",
            "INFO: Finished 1-process extraction of 1244283 articles in 1019.6s (1220.4 art/s)\n"
          ]
        }
      ]
    },
    {
      "cell_type": "code",
      "metadata": {
        "colab": {
          "base_uri": "https://localhost:8080/"
        },
        "id": "7WyJOCBDHcFq",
        "outputId": "63c565c3-8cdb-49f0-fd6a-ddefc744b962"
      },
      "source": [
        "%ls"
      ],
      "execution_count": null,
      "outputs": [
        {
          "name": "stdout",
          "output_type": "stream",
          "text": [
            "\u001b[0m\u001b[01;34mimages\u001b[0m/                                    LICENSE\n",
            "install_mecab-ko_on_colab190912.sh         README.md\n",
            "install_mecab-ko_on_colab_light_210108.sh  \u001b[01;34mtext\u001b[0m/\n",
            "kowiki-latest-pages-articles.xml.bz2\n"
          ]
        }
      ]
    },
    {
      "cell_type": "code",
      "metadata": {
        "colab": {
          "base_uri": "https://localhost:8080/"
        },
        "id": "4PvPq6RrRA2Y",
        "outputId": "f0b702bf-30a2-46c3-eac1-65174add128e"
      },
      "source": [
        "import os\n",
        "import re\n",
        "\n",
        "os.listdir('text')"
      ],
      "execution_count": null,
      "outputs": [
        {
          "data": {
            "text/plain": [
              "['AC', 'AF', 'AD', 'AA', 'AB', 'AH', 'AI', 'AG', 'AE']"
            ]
          },
          "execution_count": 6,
          "metadata": {},
          "output_type": "execute_result"
        }
      ]
    },
    {
      "cell_type": "code",
      "metadata": {
        "colab": {
          "base_uri": "https://localhost:8080/"
        },
        "id": "A8597wzVRHCL",
        "outputId": "5b2c13ea-dff1-442e-b2ae-9843bb5b3acd"
      },
      "source": [
        "%ls text/AA"
      ],
      "execution_count": null,
      "outputs": [
        {
          "name": "stdout",
          "output_type": "stream",
          "text": [
            "wiki_00  wiki_12  wiki_24  wiki_36  wiki_48  wiki_60  wiki_72  wiki_84  wiki_96\n",
            "wiki_01  wiki_13  wiki_25  wiki_37  wiki_49  wiki_61  wiki_73  wiki_85  wiki_97\n",
            "wiki_02  wiki_14  wiki_26  wiki_38  wiki_50  wiki_62  wiki_74  wiki_86  wiki_98\n",
            "wiki_03  wiki_15  wiki_27  wiki_39  wiki_51  wiki_63  wiki_75  wiki_87  wiki_99\n",
            "wiki_04  wiki_16  wiki_28  wiki_40  wiki_52  wiki_64  wiki_76  wiki_88\n",
            "wiki_05  wiki_17  wiki_29  wiki_41  wiki_53  wiki_65  wiki_77  wiki_89\n",
            "wiki_06  wiki_18  wiki_30  wiki_42  wiki_54  wiki_66  wiki_78  wiki_90\n",
            "wiki_07  wiki_19  wiki_31  wiki_43  wiki_55  wiki_67  wiki_79  wiki_91\n",
            "wiki_08  wiki_20  wiki_32  wiki_44  wiki_56  wiki_68  wiki_80  wiki_92\n",
            "wiki_09  wiki_21  wiki_33  wiki_45  wiki_57  wiki_69  wiki_81  wiki_93\n",
            "wiki_10  wiki_22  wiki_34  wiki_46  wiki_58  wiki_70  wiki_82  wiki_94\n",
            "wiki_11  wiki_23  wiki_35  wiki_47  wiki_59  wiki_71  wiki_83  wiki_95\n"
          ]
        }
      ]
    },
    {
      "cell_type": "code",
      "metadata": {
        "id": "JLvz_e-wRLXM"
      },
      "source": [
        "%cat text/AA/wiki_00"
      ],
      "execution_count": null,
      "outputs": []
    },
    {
      "cell_type": "code",
      "metadata": {
        "id": "H4DW1VW8R05-"
      },
      "source": [
        "def list_wiki(dirname):\n",
        "  filepaths = []\n",
        "  filenames = os.listdir(dirname)\n",
        "  for filename in filenames:\n",
        "    filepath = os.path.join(dirname, filename)\n",
        "\n",
        "    if os.path.isdir(filepath):\n",
        "      filepaths.extend(list_wiki(filepath))\n",
        "    else:\n",
        "      find = re.findall(r\"wiki_[0-9][0-9]\", filepath)\n",
        "      if len(find) > 0:\n",
        "        filepaths.append(filepath)\n",
        "\n",
        "  return sorted(filepaths)"
      ],
      "execution_count": null,
      "outputs": []
    },
    {
      "cell_type": "code",
      "metadata": {
        "colab": {
          "base_uri": "https://localhost:8080/"
        },
        "id": "i4LiwGL4T9bh",
        "outputId": "1f02fbf9-c5f5-4b28-dd35-cb4a19bf3c3a"
      },
      "source": [
        "filepaths = list_wiki('text')\n",
        "print(len(filepaths))\n",
        "print(filepaths[:5])"
      ],
      "execution_count": null,
      "outputs": [
        {
          "name": "stdout",
          "output_type": "stream",
          "text": [
            "855\n",
            "['text/AA/wiki_00', 'text/AA/wiki_01', 'text/AA/wiki_02', 'text/AA/wiki_03', 'text/AA/wiki_04']\n"
          ]
        }
      ]
    },
    {
      "cell_type": "code",
      "metadata": {
        "id": "2Pl99YQFUCVm"
      },
      "source": [
        "with open('output_file.txt', 'w') as outfile:\n",
        "  for filepath in filepaths:\n",
        "    with open(filepath) as infile:\n",
        "      contents = infile.read()\n",
        "      outfile.write(contents)"
      ],
      "execution_count": null,
      "outputs": []
    },
    {
      "cell_type": "code",
      "metadata": {
        "colab": {
          "base_uri": "https://localhost:8080/"
        },
        "id": "9ro6DSVMU2Me",
        "outputId": "d45473bc-a1d0-4e0d-827d-0729c937cb01"
      },
      "source": [
        "f = open('output_file.txt', encoding='utf8')\n",
        "\n",
        "i = 0\n",
        "while True:\n",
        "  line = f.readline()\n",
        "  if line != '\\n':\n",
        "    i += 1\n",
        "    print('%d번째 줄 :' %i + line)\n",
        "  if i == 10:\n",
        "    break\n",
        "\n",
        "f.close()"
      ],
      "execution_count": null,
      "outputs": [
        {
          "name": "stdout",
          "output_type": "stream",
          "text": [
            "1번째 줄 :<doc id=\"5\" url=\"https://ko.wikipedia.org/wiki?curid=5\" title=\"지미 카터\">\n",
            "\n",
            "2번째 줄 :지미 카터\n",
            "\n",
            "3번째 줄 :제임스 얼 카터 주니어(, 1924년 10월 1일 ~ )는 민주당 출신 미국 39대 대통령 (1977년 ~ 1981년)이며, 독재자의 사신이라는 별명을 가지고 있다.\n",
            "\n",
            "4번째 줄 :생애.\n",
            "\n",
            "5번째 줄 :어린 시절.\n",
            "\n",
            "6번째 줄 :지미 카터는 조지아주 섬터 카운티 플레인스 마을에서 태어났다.\n",
            "\n",
            "7번째 줄 :조지아 공과대학교를 졸업하였다. 그 후 해군에 들어가 전함·원자력·잠수함의 승무원으로 일하였다. 1953년 미국 해군 대위로 예편하였고 이후 땅콩·면화 등을 가꿔 많은 돈을 벌었다. 그의 별명이 \"땅콩 농부\" (Peanut Farmer)로 알려졌다.\n",
            "\n",
            "8번째 줄 :정계 입문.\n",
            "\n",
            "9번째 줄 :1962년 조지아 주 상원 의원 선거에서 낙선하나 그 선거가 부정선거 였음을 입증하게 되어 당선되고, 1966년 조지아 주지사 선거에 낙선하지만, 1970년 조지아 주지사를 역임했다. 대통령이 되기 전 조지아주 상원의원을 두번 연임했으며, 1971년부터 1975년까지 조지아 지사로 근무했다. 조지아 주지사로 지내면서, 미국에 사는 흑인 등용법을 내세웠다.\n",
            "\n",
            "10번째 줄 :대통령 재임.\n",
            "\n"
          ]
        }
      ]
    },
    {
      "cell_type": "code",
      "metadata": {
        "id": "0C43aMKCVyHa"
      },
      "source": [
        "from tqdm import tqdm\n",
        "from konlpy.tag import Mecab\n",
        "\n",
        "mecab = Mecab()"
      ],
      "execution_count": null,
      "outputs": []
    },
    {
      "cell_type": "code",
      "metadata": {
        "colab": {
          "base_uri": "https://localhost:8080/"
        },
        "id": "QJrpzDXYV70n",
        "outputId": "75165f46-fb22-458d-fead-7ea82661bfad"
      },
      "source": [
        "f = open('output_file.txt', encoding='utf8')\n",
        "lines = f.read().splitlines()\n",
        "print(len(lines))"
      ],
      "execution_count": null,
      "outputs": [
        {
          "name": "stdout",
          "output_type": "stream",
          "text": [
            "9784296\n"
          ]
        }
      ]
    },
    {
      "cell_type": "code",
      "metadata": {
        "colab": {
          "base_uri": "https://localhost:8080/"
        },
        "id": "PZbu_Iy8WQFZ",
        "outputId": "07abccbf-c621-43ab-f6c3-a4eea129674a"
      },
      "source": [
        "print(lines[:10])"
      ],
      "execution_count": null,
      "outputs": [
        {
          "name": "stdout",
          "output_type": "stream",
          "text": [
            "['<doc id=\"5\" url=\"https://ko.wikipedia.org/wiki?curid=5\" title=\"지미 카터\">', '지미 카터', '', '제임스 얼 카터 주니어(, 1924년 10월 1일 ~ )는 민주당 출신 미국 39대 대통령 (1977년 ~ 1981년)이며, 독재자의 사신이라는 별명을 가지고 있다.', '생애.', '어린 시절.', '지미 카터는 조지아주 섬터 카운티 플레인스 마을에서 태어났다.', '조지아 공과대학교를 졸업하였다. 그 후 해군에 들어가 전함·원자력·잠수함의 승무원으로 일하였다. 1953년 미국 해군 대위로 예편하였고 이후 땅콩·면화 등을 가꿔 많은 돈을 벌었다. 그의 별명이 \"땅콩 농부\" (Peanut Farmer)로 알려졌다.', '정계 입문.', '1962년 조지아 주 상원 의원 선거에서 낙선하나 그 선거가 부정선거 였음을 입증하게 되어 당선되고, 1966년 조지아 주지사 선거에 낙선하지만, 1970년 조지아 주지사를 역임했다. 대통령이 되기 전 조지아주 상원의원을 두번 연임했으며, 1971년부터 1975년까지 조지아 지사로 근무했다. 조지아 주지사로 지내면서, 미국에 사는 흑인 등용법을 내세웠다.']\n"
          ]
        }
      ]
    },
    {
      "cell_type": "code",
      "metadata": {
        "colab": {
          "background_save": true,
          "base_uri": "https://localhost:8080/"
        },
        "id": "ZKe46CZUWaks",
        "outputId": "1c6e517b-4646-43ec-ddf6-86874e2d1580"
      },
      "source": [
        "result = []\n",
        "\n",
        "for line in tqdm(lines):\n",
        "  if line:\n",
        "    result.append(mecab.morphs(line))"
      ],
      "execution_count": null,
      "outputs": [
        {
          "name": "stderr",
          "output_type": "stream",
          "text": [
            " 52%|█████▏    | 5090992/9784296 [59:59<117:28:13, 11.10it/s]"
          ]
        }
      ]
    },
    {
      "cell_type": "code",
      "metadata": {
        "id": "uu5t0KAaWwbj"
      },
      "source": [
        ""
      ],
      "execution_count": null,
      "outputs": []
    }
  ]
}