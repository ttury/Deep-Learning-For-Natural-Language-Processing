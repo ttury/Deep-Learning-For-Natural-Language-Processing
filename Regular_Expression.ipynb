{
  "nbformat": 4,
  "nbformat_minor": 0,
  "metadata": {
    "colab": {
      "name": "Regular_Expression.ipynb",
      "provenance": [],
      "collapsed_sections": [],
      "authorship_tag": "ABX9TyNDj5IIfCfYiDbTDNvCW4lb",
      "include_colab_link": true
    },
    "kernelspec": {
      "name": "python3",
      "display_name": "Python 3"
    },
    "language_info": {
      "name": "python"
    }
  },
  "cells": [
    {
      "cell_type": "markdown",
      "metadata": {
        "id": "view-in-github",
        "colab_type": "text"
      },
      "source": [
        "<a href=\"https://colab.research.google.com/github/ttury/Deep-Learning-For-Natural-Language-Processing/blob/master/Regular_Expression.ipynb\" target=\"_parent\"><img src=\"https://colab.research.google.com/assets/colab-badge.svg\" alt=\"Open In Colab\"/></a>"
      ]
    },
    {
      "cell_type": "code",
      "metadata": {
        "id": "j1Ub9mQBeWGX"
      },
      "source": [
        "import re\n",
        "\n",
        "r = re.compile(\"a.c\")\n",
        "\n",
        "print(r.search(\"kkk\"))\n",
        "print(r.search(\"abc\"))"
      ],
      "execution_count": null,
      "outputs": []
    },
    {
      "cell_type": "code",
      "metadata": {
        "id": "wKes5RQUe4c9"
      },
      "source": [
        "import re\n",
        "\n",
        "r = re.compile(\"ab?c\")\n",
        "\n",
        "print(r.search(\"abbc\"))\n",
        "print(r.search(\"abc\"))\n",
        "print(r.search(\"ac\"))"
      ],
      "execution_count": null,
      "outputs": []
    },
    {
      "cell_type": "code",
      "metadata": {
        "id": "S_hV-jcFfvmL"
      },
      "source": [
        "import re\n",
        "\n",
        "r = re.compile(\"ab*c\")\n",
        "\n",
        "print(r.search(\"a\"))\n",
        "print(r.search(\"ac\"))\n",
        "print(r.search(\"abc\"))\n",
        "print(r.search(\"abbbc\"))"
      ],
      "execution_count": null,
      "outputs": []
    },
    {
      "cell_type": "code",
      "metadata": {
        "id": "_nKFzXopgCIi"
      },
      "source": [
        "import re\n",
        "\n",
        "r = re.compile(\"ab+c\")\n",
        "\n",
        "print(r.search(\"ac\"))\n",
        "print(r.search(\"abc\"))\n",
        "print(r.search(\"abbbc\"))"
      ],
      "execution_count": null,
      "outputs": []
    },
    {
      "cell_type": "code",
      "metadata": {
        "id": "8_SqxjMhgXNy"
      },
      "source": [
        "import re\n",
        "\n",
        "r = re.compile(\"^a\")\n",
        "\n",
        "print(r.search(\"bc\"))\n",
        "print(r.search(\"ab\"))"
      ],
      "execution_count": null,
      "outputs": []
    },
    {
      "cell_type": "code",
      "metadata": {
        "id": "gWrhHi2egpPp"
      },
      "source": [
        "import re\n",
        "\n",
        "r = re.compile(\"ab{2}c\")\n",
        "\n",
        "print(r.search(\"abc\"))\n",
        "print(r.search(\"abbc\"))\n",
        "print(r.search(\"abbbc\"))"
      ],
      "execution_count": null,
      "outputs": []
    },
    {
      "cell_type": "code",
      "metadata": {
        "id": "hx6du1fAg755"
      },
      "source": [
        "import re\n",
        "\n",
        "r = re.compile(\"ab{2,5}c\")\n",
        "\n",
        "print(r.search(\"abc\"))\n",
        "print(r.search(\"abbc\"))\n",
        "print(r.search(\"abbbbbc\"))\n",
        "print(r.search(\"abbbbbbbbbbbbc\"))"
      ],
      "execution_count": null,
      "outputs": []
    },
    {
      "cell_type": "code",
      "metadata": {
        "id": "YUvSGYqxhP1p"
      },
      "source": [
        "import re\n",
        "\n",
        "r = re.compile(\"a{2,}bc\")\n",
        "\n",
        "print(r.search(\"abc\"))\n",
        "print(r.search(\"aabc\"))\n",
        "print(r.search(\"aaaaaaaaaaaabc\"))"
      ],
      "execution_count": null,
      "outputs": []
    },
    {
      "cell_type": "code",
      "metadata": {
        "id": "qOJQ-Jy_hh6k"
      },
      "source": [
        "import re\n",
        "\n",
        "r = re.compile(\"[abc]\")\n",
        "\n",
        "print(r.search(\"a\"))\n",
        "print(r.search(\"bc\"))\n",
        "print(r.search(\"bcaaacb\"))"
      ],
      "execution_count": null,
      "outputs": []
    },
    {
      "cell_type": "code",
      "metadata": {
        "id": "34jArKhvh1o_"
      },
      "source": [
        "import re\n",
        "\n",
        "r = re.compile(\"[a-z]\")\n",
        "\n",
        "print(r.search(\"aBC\"))\n",
        "print(r.search(\"ABC\"))"
      ],
      "execution_count": null,
      "outputs": []
    },
    {
      "cell_type": "code",
      "metadata": {
        "id": "vTSAqcWpiIZJ"
      },
      "source": [
        "import re\n",
        "\n",
        "r = re.compile(\"[^abc]\")\n",
        "\n",
        "print(r.search(\"a\"))\n",
        "print(r.search(\"d\"))"
      ],
      "execution_count": null,
      "outputs": []
    },
    {
      "cell_type": "code",
      "metadata": {
        "colab": {
          "base_uri": "https://localhost:8080/"
        },
        "id": "m4iLa5RIi9OQ",
        "outputId": "c1cd280b-1728-47a4-f3a8-238a14d52032"
      },
      "source": [
        "import re\n",
        "\n",
        "r = re.compile(\"ab.\")\n",
        "\n",
        "print(r.search(\"kkkabc\"))\n",
        "print(r.match(\"kkkabc\"))\n",
        "print(r.match(\"abckkk\"))"
      ],
      "execution_count": 28,
      "outputs": [
        {
          "output_type": "stream",
          "text": [
            "<re.Match object; span=(3, 6), match='abc'>\n",
            "None\n",
            "<re.Match object; span=(0, 3), match='abc'>\n"
          ],
          "name": "stdout"
        }
      ]
    },
    {
      "cell_type": "code",
      "metadata": {
        "colab": {
          "base_uri": "https://localhost:8080/"
        },
        "id": "c3IRIQ6dCaEL",
        "outputId": "1ced5302-e5b5-45cb-fe2e-d52e4ddd24b7"
      },
      "source": [
        "import re\n",
        "\n",
        "text1 =\"\"\"사과\n",
        "딸기\n",
        "수박\n",
        "메론\n",
        "바나나\"\"\"\n",
        "text2 =\"사과+딸기+수박+메론+바나나\"\n",
        "\n",
        "print(re.split(\"\\n\", text1))\n",
        "print(re.split(\"\\+\", text2))"
      ],
      "execution_count": 29,
      "outputs": [
        {
          "output_type": "stream",
          "text": [
            "['사과', '딸기', '수박', '메론', '바나나']\n"
          ],
          "name": "stdout"
        }
      ]
    },
    {
      "cell_type": "code",
      "metadata": {
        "colab": {
          "base_uri": "https://localhost:8080/"
        },
        "id": "_QZtxTYlDAge",
        "outputId": "5f9620e4-27b0-4cad-b21a-75de2809d072"
      },
      "source": [
        "import re\n",
        "\n",
        "text = \"\"\"이름 : 김철수\n",
        "전화번로 : 010 - 1234 - 1234\n",
        "나이 : 30\n",
        "성별 : 남\"\"\"\n",
        "\n",
        "print(re.findall(\"\\d+\", text))\n",
        "print(re.findall(\"\\d+\", \"no number\"))"
      ],
      "execution_count": 32,
      "outputs": [
        {
          "output_type": "stream",
          "text": [
            "['010', '1234', '1234', '30']\n",
            "[]\n"
          ],
          "name": "stdout"
        }
      ]
    },
    {
      "cell_type": "code",
      "metadata": {
        "colab": {
          "base_uri": "https://localhost:8080/"
        },
        "id": "xXBhfXhgDgO2",
        "outputId": "7a908ebd-1ef8-421a-89b1-a4960049c93b"
      },
      "source": [
        "import re\n",
        "\n",
        "text = \"Regular expression : A regular expression, regex or regexp[1] (sometimes called a rational expression)[2][3] is, in theoretical computer science and formal language theory, a sequence of characters that define a search pattern.\"\n",
        "\n",
        "print(re.sub('[^a-zA-Z]', ' ', text))"
      ],
      "execution_count": 36,
      "outputs": [
        {
          "output_type": "stream",
          "text": [
            "Regular expression   A regular expression  regex or regexp     sometimes called a rational expression        is  in theoretical computer science and formal language theory  a sequence of characters that define a search pattern \n"
          ],
          "name": "stdout"
        }
      ]
    },
    {
      "cell_type": "code",
      "metadata": {
        "colab": {
          "base_uri": "https://localhost:8080/"
        },
        "id": "vK2ByBovEJ4n",
        "outputId": "bb6f16d6-6061-4862-f67e-19e5df4e080a"
      },
      "source": [
        "import re\n",
        "\n",
        "text = \"\"\"100 John    PROF\n",
        "101 James   STUD\n",
        "102 Mac   STUD\"\"\"\n",
        "\n",
        "print(re.split(\"\\s+\", text))\n",
        "print(re.findall(\"\\d+\", text))\n",
        "print(re.findall(\"[A-Z]\", text))\n",
        "print(re.findall(\"[A-Z]{4}\", text))\n",
        "print(re.findall(\"[A-Z][a-z]+\", text))"
      ],
      "execution_count": 42,
      "outputs": [
        {
          "output_type": "stream",
          "text": [
            "['100', 'John', 'PROF', '101', 'James', 'STUD', '102', 'Mac', 'STUD']\n",
            "['100', '101', '102']\n",
            "['J', 'P', 'R', 'O', 'F', 'J', 'S', 'T', 'U', 'D', 'M', 'S', 'T', 'U', 'D']\n",
            "['PROF', 'STUD', 'STUD']\n",
            "['John', 'James', 'Mac']\n"
          ],
          "name": "stdout"
        }
      ]
    },
    {
      "cell_type": "code",
      "metadata": {
        "colab": {
          "base_uri": "https://localhost:8080/"
        },
        "id": "Hk2ZF4dBFb3p",
        "outputId": "62340dda-53dc-4664-e746-17758b897597"
      },
      "source": [
        "import nltk\n",
        "from nltk.tokenize import RegexpTokenizer\n",
        "\n",
        "tokenizer_char = RegexpTokenizer(\"[\\w]+\")\n",
        "tokenizer_gaps = RegexpTokenizer(\"[\\s]+\", gaps = True)\n",
        "\n",
        "print(tokenizer_char.tokenize(\"Don't be fooled by the dark sounding name, Mr. Jone's Orphanage is as cheery as cheery goes for a pastry shop\"))\n",
        "print(tokenizer_gaps.tokenize(\"Don't be fooled by the dark sounding name, Mr. Jone's Orphanage is as cheery as cheery goes for a pastry shop\"))\n"
      ],
      "execution_count": 45,
      "outputs": [
        {
          "output_type": "stream",
          "text": [
            "['Don', 't', 'be', 'fooled', 'by', 'the', 'dark', 'sounding', 'name', 'Mr', 'Jone', 's', 'Orphanage', 'is', 'as', 'cheery', 'as', 'cheery', 'goes', 'for', 'a', 'pastry', 'shop']\n",
            "[\"Don't\", 'be', 'fooled', 'by', 'the', 'dark', 'sounding', 'name,', 'Mr.', \"Jone's\", 'Orphanage', 'is', 'as', 'cheery', 'as', 'cheery', 'goes', 'for', 'a', 'pastry', 'shop']\n"
          ],
          "name": "stdout"
        }
      ]
    }
  ]
}