{
  "nbformat": 4,
  "nbformat_minor": 0,
  "metadata": {
    "colab": {
      "name": "Text_Generation_using_LSTM.ipynb",
      "provenance": [],
      "mount_file_id": "1Zgzt_ZT-OPBpR1l1jEGUFpWZHKeMmLh4",
      "authorship_tag": "ABX9TyP1F/AW1hwz07FSGGk+XW72",
      "include_colab_link": true
    },
    "kernelspec": {
      "name": "python3",
      "display_name": "Python 3"
    },
    "language_info": {
      "name": "python"
    }
  },
  "cells": [
    {
      "cell_type": "markdown",
      "metadata": {
        "id": "view-in-github",
        "colab_type": "text"
      },
      "source": [
        "<a href=\"https://colab.research.google.com/github/ttury/Deep-Learning-For-Natural-Language-Processing/blob/master/Text_Generation_using_LSTM.ipynb\" target=\"_parent\"><img src=\"https://colab.research.google.com/assets/colab-badge.svg\" alt=\"Open In Colab\"/></a>"
      ]
    },
    {
      "cell_type": "code",
      "metadata": {
        "colab": {
          "base_uri": "https://localhost:8080/",
          "height": 635
        },
        "id": "SrISbgEEF4al",
        "outputId": "87f8db76-f85d-48ba-d7c5-71d531f3855e"
      },
      "source": [
        "import pandas as pd\n",
        "from string import punctuation\n",
        "from tensorflow.keras.preprocessing.text import Tokenizer\n",
        "from tensorflow.keras.preprocessing.sequence import pad_sequences\n",
        "import numpy as np\n",
        "from tensorflow.keras.utils import to_categorical\n",
        "\n",
        "df = pd.read_csv('./drive/MyDrive/datasets/archive/ArticlesApril2018.csv')\n",
        "df.head()"
      ],
      "execution_count": 3,
      "outputs": [
        {
          "output_type": "execute_result",
          "data": {
            "text/html": [
              "<div>\n",
              "<style scoped>\n",
              "    .dataframe tbody tr th:only-of-type {\n",
              "        vertical-align: middle;\n",
              "    }\n",
              "\n",
              "    .dataframe tbody tr th {\n",
              "        vertical-align: top;\n",
              "    }\n",
              "\n",
              "    .dataframe thead th {\n",
              "        text-align: right;\n",
              "    }\n",
              "</style>\n",
              "<table border=\"1\" class=\"dataframe\">\n",
              "  <thead>\n",
              "    <tr style=\"text-align: right;\">\n",
              "      <th></th>\n",
              "      <th>articleID</th>\n",
              "      <th>articleWordCount</th>\n",
              "      <th>byline</th>\n",
              "      <th>documentType</th>\n",
              "      <th>headline</th>\n",
              "      <th>keywords</th>\n",
              "      <th>multimedia</th>\n",
              "      <th>newDesk</th>\n",
              "      <th>printPage</th>\n",
              "      <th>pubDate</th>\n",
              "      <th>sectionName</th>\n",
              "      <th>snippet</th>\n",
              "      <th>source</th>\n",
              "      <th>typeOfMaterial</th>\n",
              "      <th>webURL</th>\n",
              "    </tr>\n",
              "  </thead>\n",
              "  <tbody>\n",
              "    <tr>\n",
              "      <th>0</th>\n",
              "      <td>5adf6684068401528a2aa69b</td>\n",
              "      <td>781</td>\n",
              "      <td>By JOHN BRANCH</td>\n",
              "      <td>article</td>\n",
              "      <td>Former N.F.L. Cheerleaders’ Settlement Offer: ...</td>\n",
              "      <td>['Workplace Hazards and Violations', 'Football...</td>\n",
              "      <td>68</td>\n",
              "      <td>Sports</td>\n",
              "      <td>0</td>\n",
              "      <td>2018-04-24 17:16:49</td>\n",
              "      <td>Pro Football</td>\n",
              "      <td>“I understand that they could meet with us, pa...</td>\n",
              "      <td>The New York Times</td>\n",
              "      <td>News</td>\n",
              "      <td>https://www.nytimes.com/2018/04/24/sports/foot...</td>\n",
              "    </tr>\n",
              "    <tr>\n",
              "      <th>1</th>\n",
              "      <td>5adf653f068401528a2aa697</td>\n",
              "      <td>656</td>\n",
              "      <td>By LISA FRIEDMAN</td>\n",
              "      <td>article</td>\n",
              "      <td>E.P.A. to Unveil a New Rule. Its Effect: Less ...</td>\n",
              "      <td>['Environmental Protection Agency', 'Pruitt, S...</td>\n",
              "      <td>68</td>\n",
              "      <td>Climate</td>\n",
              "      <td>0</td>\n",
              "      <td>2018-04-24 17:11:21</td>\n",
              "      <td>Unknown</td>\n",
              "      <td>The agency plans to publish a new regulation T...</td>\n",
              "      <td>The New York Times</td>\n",
              "      <td>News</td>\n",
              "      <td>https://www.nytimes.com/2018/04/24/climate/epa...</td>\n",
              "    </tr>\n",
              "    <tr>\n",
              "      <th>2</th>\n",
              "      <td>5adf4626068401528a2aa628</td>\n",
              "      <td>2427</td>\n",
              "      <td>By PETE WELLS</td>\n",
              "      <td>article</td>\n",
              "      <td>The New Noma, Explained</td>\n",
              "      <td>['Restaurants', 'Noma (Copenhagen, Restaurant)...</td>\n",
              "      <td>66</td>\n",
              "      <td>Dining</td>\n",
              "      <td>0</td>\n",
              "      <td>2018-04-24 14:58:44</td>\n",
              "      <td>Unknown</td>\n",
              "      <td>What’s it like to eat at the second incarnatio...</td>\n",
              "      <td>The New York Times</td>\n",
              "      <td>News</td>\n",
              "      <td>https://www.nytimes.com/2018/04/24/dining/noma...</td>\n",
              "    </tr>\n",
              "    <tr>\n",
              "      <th>3</th>\n",
              "      <td>5adf40d2068401528a2aa619</td>\n",
              "      <td>626</td>\n",
              "      <td>By JULIE HIRSCHFELD DAVIS and PETER BAKER</td>\n",
              "      <td>article</td>\n",
              "      <td>Unknown</td>\n",
              "      <td>['Macron, Emmanuel (1977- )', 'Trump, Donald J...</td>\n",
              "      <td>68</td>\n",
              "      <td>Washington</td>\n",
              "      <td>0</td>\n",
              "      <td>2018-04-24 14:35:57</td>\n",
              "      <td>Europe</td>\n",
              "      <td>President Trump welcomed President Emmanuel Ma...</td>\n",
              "      <td>The New York Times</td>\n",
              "      <td>News</td>\n",
              "      <td>https://www.nytimes.com/2018/04/24/world/europ...</td>\n",
              "    </tr>\n",
              "    <tr>\n",
              "      <th>4</th>\n",
              "      <td>5adf3d64068401528a2aa60f</td>\n",
              "      <td>815</td>\n",
              "      <td>By IAN AUSTEN and DAN BILEFSKY</td>\n",
              "      <td>article</td>\n",
              "      <td>Unknown</td>\n",
              "      <td>['Toronto, Ontario, Attack (April, 2018)', 'Mu...</td>\n",
              "      <td>68</td>\n",
              "      <td>Foreign</td>\n",
              "      <td>0</td>\n",
              "      <td>2018-04-24 14:21:21</td>\n",
              "      <td>Canada</td>\n",
              "      <td>Alek Minassian, 25, a resident of Toronto’s Ri...</td>\n",
              "      <td>The New York Times</td>\n",
              "      <td>News</td>\n",
              "      <td>https://www.nytimes.com/2018/04/24/world/canad...</td>\n",
              "    </tr>\n",
              "  </tbody>\n",
              "</table>\n",
              "</div>"
            ],
            "text/plain": [
              "                  articleID  ...                                             webURL\n",
              "0  5adf6684068401528a2aa69b  ...  https://www.nytimes.com/2018/04/24/sports/foot...\n",
              "1  5adf653f068401528a2aa697  ...  https://www.nytimes.com/2018/04/24/climate/epa...\n",
              "2  5adf4626068401528a2aa628  ...  https://www.nytimes.com/2018/04/24/dining/noma...\n",
              "3  5adf40d2068401528a2aa619  ...  https://www.nytimes.com/2018/04/24/world/europ...\n",
              "4  5adf3d64068401528a2aa60f  ...  https://www.nytimes.com/2018/04/24/world/canad...\n",
              "\n",
              "[5 rows x 15 columns]"
            ]
          },
          "metadata": {
            "tags": []
          },
          "execution_count": 3
        }
      ]
    },
    {
      "cell_type": "code",
      "metadata": {
        "colab": {
          "base_uri": "https://localhost:8080/"
        },
        "id": "JolKtTWUIYIo",
        "outputId": "6900f83d-a672-48c3-924a-d3042ffe34ac"
      },
      "source": [
        "print('열의 개수: ', len(df.columns))\n",
        "print(df.columns)\n",
        "print(df['headline'].isnull().values.any())\n",
        "# isnull 함수는 결측값이 있으면 True, 없으면 False를 반환\n",
        "# any 함수는 True 값이 하나라도 있으면 True, 없으면 False를 반환"
      ],
      "execution_count": 8,
      "outputs": [
        {
          "output_type": "stream",
          "text": [
            "열의 개수:  15\n",
            "Index(['articleID', 'articleWordCount', 'byline', 'documentType', 'headline',\n",
            "       'keywords', 'multimedia', 'newDesk', 'printPage', 'pubDate',\n",
            "       'sectionName', 'snippet', 'source', 'typeOfMaterial', 'webURL'],\n",
            "      dtype='object')\n",
            "False\n"
          ],
          "name": "stdout"
        }
      ]
    },
    {
      "cell_type": "code",
      "metadata": {
        "colab": {
          "base_uri": "https://localhost:8080/"
        },
        "id": "64Gx2SmiIaSC",
        "outputId": "de7905ff-cef3-452f-dac9-bdf8f2015842"
      },
      "source": [
        "headline = list(df.headline.values)\n",
        "print(headline[:5])\n",
        "print('총 샘플의 개수 : {}'.format(len(headline)))"
      ],
      "execution_count": 13,
      "outputs": [
        {
          "output_type": "stream",
          "text": [
            "['Former N.F.L. Cheerleaders’ Settlement Offer: $1 and a Meeting With Goodell', 'E.P.A. to Unveil a New Rule. Its Effect: Less Science in Policymaking.', 'The New Noma, Explained', 'Unknown', 'Unknown']\n",
            "총 샘플의 개수 : 1324\n"
          ],
          "name": "stdout"
        }
      ]
    },
    {
      "cell_type": "code",
      "metadata": {
        "colab": {
          "base_uri": "https://localhost:8080/"
        },
        "id": "9JaRLYMGLiVZ",
        "outputId": "8364b631-dc46-4d54-fd65-28f711972504"
      },
      "source": [
        "headline = [corpus for corpus in headline if corpus != \"Unknown\"]\n",
        "print(headline[:5])\n",
        "print('노이즈값 제거 후 샘플의 개수 : {}'.format(len(headline)))"
      ],
      "execution_count": 17,
      "outputs": [
        {
          "output_type": "stream",
          "text": [
            "['Former N.F.L. Cheerleaders’ Settlement Offer: $1 and a Meeting With Goodell', 'E.P.A. to Unveil a New Rule. Its Effect: Less Science in Policymaking.', 'The New Noma, Explained', 'How a Bag of Texas Dirt  Became a Times Tradition', 'Is School a Place for Self-Expression?']\n",
            "노이즈값 제거 후 샘플의 개수 : 1214\n"
          ],
          "name": "stdout"
        }
      ]
    },
    {
      "cell_type": "code",
      "metadata": {
        "colab": {
          "base_uri": "https://localhost:8080/"
        },
        "id": "e6coANVeMHtr",
        "outputId": "37ea98ae-f34a-4627-efdd-99a8be24b65e"
      },
      "source": [
        "def repreprocessing(sample):\n",
        "  sample = sample.encode('utf8').decode('ascii', 'ignore') # 아스키 코드만 남기고 삭제\n",
        "  return ''.join(ch for ch in sample if ch not in punctuation).lower() # 구두점 제거, 소문자 변환\n",
        "\n",
        "text = [repreprocessing(sample) for sample in headline]\n",
        "print(text[:5])"
      ],
      "execution_count": 21,
      "outputs": [
        {
          "output_type": "stream",
          "text": [
            "['former nfl cheerleaders settlement offer 1 and a meeting with goodell', 'epa to unveil a new rule its effect less science in policymaking', 'the new noma explained', 'how a bag of texas dirt  became a times tradition', 'is school a place for selfexpression']\n"
          ],
          "name": "stdout"
        }
      ]
    },
    {
      "cell_type": "code",
      "metadata": {
        "colab": {
          "base_uri": "https://localhost:8080/"
        },
        "id": "bVqwAduWO--k",
        "outputId": "5dbd6821-48e2-4726-8dbb-932481b4b0f3"
      },
      "source": [
        "tokenizer = Tokenizer()\n",
        "tokenizer.fit_on_texts(text)\n",
        "vocab_size = len(tokenizer.word_index) + 1\n",
        "# 케라스 토크나이저의 정수 인코딩은 인덱스가 1부터 시작하지만,\n",
        "# 케라스 원-핫 인코딩은 인덱스가 0부터 시작하기 때문에\n",
        "# 인덱스를 1부터 시작하기 위해 단어 집합의 크기보다 1 크게 지정\n",
        "\n",
        "print('단어 집합의 크기 : %d' % vocab_size)"
      ],
      "execution_count": 24,
      "outputs": [
        {
          "output_type": "stream",
          "text": [
            "단어 집합의 크기 : 3494\n"
          ],
          "name": "stdout"
        }
      ]
    },
    {
      "cell_type": "code",
      "metadata": {
        "colab": {
          "base_uri": "https://localhost:8080/"
        },
        "id": "yYevUK2WQnE2",
        "outputId": "171be52b-7903-470e-ff95-11caa4b6afd4"
      },
      "source": [
        "sequences = list()\n",
        "\n",
        "for line in text:\n",
        "  encoded = tokenizer.texts_to_sequences([line])[0] # 정수 인코딩\n",
        "  for i in range(1, len(encoded)):\n",
        "    sequence = encoded[:i+1]\n",
        "    sequences.append(sequence)\n",
        "\n",
        "sequences[:11]"
      ],
      "execution_count": 44,
      "outputs": [
        {
          "output_type": "execute_result",
          "data": {
            "text/plain": [
              "[[99, 269],\n",
              " [99, 269, 371],\n",
              " [99, 269, 371, 1115],\n",
              " [99, 269, 371, 1115, 582],\n",
              " [99, 269, 371, 1115, 582, 52],\n",
              " [99, 269, 371, 1115, 582, 52, 7],\n",
              " [99, 269, 371, 1115, 582, 52, 7, 2],\n",
              " [99, 269, 371, 1115, 582, 52, 7, 2, 372],\n",
              " [99, 269, 371, 1115, 582, 52, 7, 2, 372, 10],\n",
              " [99, 269, 371, 1115, 582, 52, 7, 2, 372, 10, 1116],\n",
              " [100, 3]]"
            ]
          },
          "metadata": {
            "tags": []
          },
          "execution_count": 44
        }
      ]
    },
    {
      "cell_type": "code",
      "metadata": {
        "colab": {
          "base_uri": "https://localhost:8080/"
        },
        "id": "-39zzUuPRk1Z",
        "outputId": "bed8c996-48e1-4c59-c43e-2c8034483145"
      },
      "source": [
        "index_to_word = dict()\n",
        "for key, value in tokenizer.word_index.items(): # dictionary key, value swap\n",
        "  index_to_word[value] = key\n",
        "\n",
        "print('빈도수 상위 582번 단어 : {}'.format(index_to_word[582]))"
      ],
      "execution_count": 45,
      "outputs": [
        {
          "output_type": "stream",
          "text": [
            "빈도수 상위 582번 단어 : offer\n"
          ],
          "name": "stdout"
        }
      ]
    },
    {
      "cell_type": "code",
      "metadata": {
        "colab": {
          "base_uri": "https://localhost:8080/"
        },
        "id": "N5Y-gk7OSUOF",
        "outputId": "c3b3b2be-c2b0-4545-d6af-13dd13b5542a"
      },
      "source": [
        "max_len = max(len(sample) for sample in sequences)\n",
        "print('샘플의 최대 길이 : {}'.format(max_len))\n",
        "\n",
        "sequences = pad_sequences(sequences, maxlen=max_len, padding='pre')\n",
        "print(sequences[:3])"
      ],
      "execution_count": 46,
      "outputs": [
        {
          "output_type": "stream",
          "text": [
            "샘플의 최대 길이 : 24\n",
            "[[   0    0    0    0    0    0    0    0    0    0    0    0    0    0\n",
            "     0    0    0    0    0    0    0    0   99  269]\n",
            " [   0    0    0    0    0    0    0    0    0    0    0    0    0    0\n",
            "     0    0    0    0    0    0    0   99  269  371]\n",
            " [   0    0    0    0    0    0    0    0    0    0    0    0    0    0\n",
            "     0    0    0    0    0    0   99  269  371 1115]]\n"
          ],
          "name": "stdout"
        }
      ]
    },
    {
      "cell_type": "code",
      "metadata": {
        "colab": {
          "base_uri": "https://localhost:8080/"
        },
        "id": "Is8GpBjoS3nS",
        "outputId": "79f5fdcf-ffbe-499e-9540-a4fa555ae172"
      },
      "source": [
        "sequences = np.array(sequences)\n",
        "x = sequences[:, :-1]\n",
        "y = sequences[:, -1]\n",
        "\n",
        "print(x.shape)\n",
        "print(x[:3])\n",
        "print(y[:3])"
      ],
      "execution_count": 47,
      "outputs": [
        {
          "output_type": "stream",
          "text": [
            "(7803, 23)\n",
            "[[  0   0   0   0   0   0   0   0   0   0   0   0   0   0   0   0   0   0\n",
            "    0   0   0   0  99]\n",
            " [  0   0   0   0   0   0   0   0   0   0   0   0   0   0   0   0   0   0\n",
            "    0   0   0  99 269]\n",
            " [  0   0   0   0   0   0   0   0   0   0   0   0   0   0   0   0   0   0\n",
            "    0   0  99 269 371]]\n",
            "[ 269  371 1115]\n"
          ],
          "name": "stdout"
        }
      ]
    },
    {
      "cell_type": "code",
      "metadata": {
        "colab": {
          "base_uri": "https://localhost:8080/"
        },
        "id": "QV-qWT_ZTT-f",
        "outputId": "12f9b82d-5f8c-4ed9-ec04-eb9d7bd7e785"
      },
      "source": [
        "y = to_categorical(y, num_classes=vocab_size)\n",
        "print(y[0])"
      ],
      "execution_count": 48,
      "outputs": [
        {
          "output_type": "stream",
          "text": [
            "[0. 0. 0. ... 0. 0. 0.]\n"
          ],
          "name": "stdout"
        }
      ]
    },
    {
      "cell_type": "code",
      "metadata": {
        "colab": {
          "base_uri": "https://localhost:8080/"
        },
        "id": "i-MAQGgaTpLn",
        "outputId": "7f943161-8404-4522-e6de-bc383c93537f"
      },
      "source": [
        "from tensorflow.keras.models import Sequential\n",
        "from tensorflow.keras.layers import Embedding, Dense, LSTM\n",
        "\n",
        "model = Sequential()\n",
        "model.add(Embedding(vocab_size, 10, input_length=max_len-1))\n",
        "model.add(LSTM(128)) # hidden_size = 128\n",
        "model.add(Dense(vocab_size, activation='softmax'))\n",
        "model.compile(loss='categorical_crossentropy', optimizer='adam', metrics=['accuracy'])\n",
        "model.fit(x, y, epochs=200, verbose=2)"
      ],
      "execution_count": 49,
      "outputs": [
        {
          "output_type": "stream",
          "text": [
            "Epoch 1/200\n",
            "244/244 - 9s - loss: 7.6500 - accuracy: 0.0270\n",
            "Epoch 2/200\n",
            "244/244 - 7s - loss: 7.1167 - accuracy: 0.0306\n",
            "Epoch 3/200\n",
            "244/244 - 7s - loss: 6.9772 - accuracy: 0.0361\n",
            "Epoch 4/200\n",
            "244/244 - 7s - loss: 6.8436 - accuracy: 0.0408\n",
            "Epoch 5/200\n",
            "244/244 - 7s - loss: 6.6912 - accuracy: 0.0454\n",
            "Epoch 6/200\n",
            "244/244 - 7s - loss: 6.5238 - accuracy: 0.0486\n",
            "Epoch 7/200\n",
            "244/244 - 7s - loss: 6.3428 - accuracy: 0.0523\n",
            "Epoch 8/200\n",
            "244/244 - 7s - loss: 6.1483 - accuracy: 0.0566\n",
            "Epoch 9/200\n",
            "244/244 - 7s - loss: 5.9522 - accuracy: 0.0607\n",
            "Epoch 10/200\n",
            "244/244 - 7s - loss: 5.7631 - accuracy: 0.0670\n",
            "Epoch 11/200\n",
            "244/244 - 7s - loss: 5.5813 - accuracy: 0.0718\n",
            "Epoch 12/200\n",
            "244/244 - 7s - loss: 5.4098 - accuracy: 0.0773\n",
            "Epoch 13/200\n",
            "244/244 - 7s - loss: 5.2498 - accuracy: 0.0825\n",
            "Epoch 14/200\n",
            "244/244 - 7s - loss: 5.0997 - accuracy: 0.0898\n",
            "Epoch 15/200\n",
            "244/244 - 7s - loss: 4.9574 - accuracy: 0.0984\n",
            "Epoch 16/200\n",
            "244/244 - 7s - loss: 4.8183 - accuracy: 0.1066\n",
            "Epoch 17/200\n",
            "244/244 - 7s - loss: 4.6868 - accuracy: 0.1203\n",
            "Epoch 18/200\n",
            "244/244 - 7s - loss: 4.5593 - accuracy: 0.1351\n",
            "Epoch 19/200\n",
            "244/244 - 7s - loss: 4.4379 - accuracy: 0.1492\n",
            "Epoch 20/200\n",
            "244/244 - 7s - loss: 4.3208 - accuracy: 0.1669\n",
            "Epoch 21/200\n",
            "244/244 - 7s - loss: 4.2008 - accuracy: 0.1816\n",
            "Epoch 22/200\n",
            "244/244 - 7s - loss: 4.0887 - accuracy: 0.1999\n",
            "Epoch 23/200\n",
            "244/244 - 7s - loss: 3.9810 - accuracy: 0.2147\n",
            "Epoch 24/200\n",
            "244/244 - 7s - loss: 3.8775 - accuracy: 0.2335\n",
            "Epoch 25/200\n",
            "244/244 - 7s - loss: 3.7743 - accuracy: 0.2504\n",
            "Epoch 26/200\n",
            "244/244 - 7s - loss: 3.6734 - accuracy: 0.2746\n",
            "Epoch 27/200\n",
            "244/244 - 7s - loss: 3.5774 - accuracy: 0.2871\n",
            "Epoch 28/200\n",
            "244/244 - 7s - loss: 3.4866 - accuracy: 0.3010\n",
            "Epoch 29/200\n",
            "244/244 - 7s - loss: 3.3947 - accuracy: 0.3201\n",
            "Epoch 30/200\n",
            "244/244 - 7s - loss: 3.3082 - accuracy: 0.3329\n",
            "Epoch 31/200\n",
            "244/244 - 7s - loss: 3.2260 - accuracy: 0.3492\n",
            "Epoch 32/200\n",
            "244/244 - 7s - loss: 3.1415 - accuracy: 0.3641\n",
            "Epoch 33/200\n",
            "244/244 - 7s - loss: 3.0660 - accuracy: 0.3749\n",
            "Epoch 34/200\n",
            "244/244 - 7s - loss: 2.9897 - accuracy: 0.3922\n",
            "Epoch 35/200\n",
            "244/244 - 7s - loss: 2.9203 - accuracy: 0.4083\n",
            "Epoch 36/200\n",
            "244/244 - 7s - loss: 2.8455 - accuracy: 0.4157\n",
            "Epoch 37/200\n",
            "244/244 - 7s - loss: 2.7797 - accuracy: 0.4314\n",
            "Epoch 38/200\n",
            "244/244 - 7s - loss: 2.7109 - accuracy: 0.4453\n",
            "Epoch 39/200\n",
            "244/244 - 7s - loss: 2.6464 - accuracy: 0.4567\n",
            "Epoch 40/200\n",
            "244/244 - 7s - loss: 2.5862 - accuracy: 0.4674\n",
            "Epoch 41/200\n",
            "244/244 - 7s - loss: 2.5226 - accuracy: 0.4803\n",
            "Epoch 42/200\n",
            "244/244 - 7s - loss: 2.4645 - accuracy: 0.4880\n",
            "Epoch 43/200\n",
            "244/244 - 7s - loss: 2.4108 - accuracy: 0.5008\n",
            "Epoch 44/200\n",
            "244/244 - 7s - loss: 2.3538 - accuracy: 0.5089\n",
            "Epoch 45/200\n",
            "244/244 - 7s - loss: 2.2992 - accuracy: 0.5248\n",
            "Epoch 46/200\n",
            "244/244 - 7s - loss: 2.2476 - accuracy: 0.5338\n",
            "Epoch 47/200\n",
            "244/244 - 7s - loss: 2.1976 - accuracy: 0.5426\n",
            "Epoch 48/200\n",
            "244/244 - 7s - loss: 2.1454 - accuracy: 0.5547\n",
            "Epoch 49/200\n",
            "244/244 - 7s - loss: 2.0966 - accuracy: 0.5667\n",
            "Epoch 50/200\n",
            "244/244 - 7s - loss: 2.0484 - accuracy: 0.5782\n",
            "Epoch 51/200\n",
            "244/244 - 7s - loss: 2.0023 - accuracy: 0.5890\n",
            "Epoch 52/200\n",
            "244/244 - 7s - loss: 1.9550 - accuracy: 0.5963\n",
            "Epoch 53/200\n",
            "244/244 - 7s - loss: 1.9119 - accuracy: 0.6069\n",
            "Epoch 54/200\n",
            "244/244 - 7s - loss: 1.8692 - accuracy: 0.6178\n",
            "Epoch 55/200\n",
            "244/244 - 7s - loss: 1.8262 - accuracy: 0.6269\n",
            "Epoch 56/200\n",
            "244/244 - 7s - loss: 1.7860 - accuracy: 0.6339\n",
            "Epoch 57/200\n",
            "244/244 - 7s - loss: 1.7462 - accuracy: 0.6454\n",
            "Epoch 58/200\n",
            "244/244 - 7s - loss: 1.7036 - accuracy: 0.6546\n",
            "Epoch 59/200\n",
            "244/244 - 7s - loss: 1.6661 - accuracy: 0.6603\n",
            "Epoch 60/200\n",
            "244/244 - 7s - loss: 1.6267 - accuracy: 0.6735\n",
            "Epoch 61/200\n",
            "244/244 - 7s - loss: 1.5885 - accuracy: 0.6794\n",
            "Epoch 62/200\n",
            "244/244 - 7s - loss: 1.5547 - accuracy: 0.6891\n",
            "Epoch 63/200\n",
            "244/244 - 7s - loss: 1.5200 - accuracy: 0.6947\n",
            "Epoch 64/200\n",
            "244/244 - 7s - loss: 1.4838 - accuracy: 0.7047\n",
            "Epoch 65/200\n",
            "244/244 - 7s - loss: 1.4499 - accuracy: 0.7078\n",
            "Epoch 66/200\n",
            "244/244 - 7s - loss: 1.4160 - accuracy: 0.7169\n",
            "Epoch 67/200\n",
            "244/244 - 7s - loss: 1.3825 - accuracy: 0.7272\n",
            "Epoch 68/200\n",
            "244/244 - 7s - loss: 1.3518 - accuracy: 0.7320\n",
            "Epoch 69/200\n",
            "244/244 - 7s - loss: 1.3185 - accuracy: 0.7347\n",
            "Epoch 70/200\n",
            "244/244 - 7s - loss: 1.2904 - accuracy: 0.7436\n",
            "Epoch 71/200\n",
            "244/244 - 7s - loss: 1.2609 - accuracy: 0.7516\n",
            "Epoch 72/200\n",
            "244/244 - 7s - loss: 1.2309 - accuracy: 0.7579\n",
            "Epoch 73/200\n",
            "244/244 - 7s - loss: 1.2040 - accuracy: 0.7609\n",
            "Epoch 74/200\n",
            "244/244 - 7s - loss: 1.1752 - accuracy: 0.7674\n",
            "Epoch 75/200\n",
            "244/244 - 7s - loss: 1.1495 - accuracy: 0.7720\n",
            "Epoch 76/200\n",
            "244/244 - 7s - loss: 1.1216 - accuracy: 0.7801\n",
            "Epoch 77/200\n",
            "244/244 - 7s - loss: 1.0983 - accuracy: 0.7837\n",
            "Epoch 78/200\n",
            "244/244 - 7s - loss: 1.0715 - accuracy: 0.7889\n",
            "Epoch 79/200\n",
            "244/244 - 7s - loss: 1.0485 - accuracy: 0.7919\n",
            "Epoch 80/200\n",
            "244/244 - 7s - loss: 1.0231 - accuracy: 0.7988\n",
            "Epoch 81/200\n",
            "244/244 - 7s - loss: 1.0005 - accuracy: 0.8025\n",
            "Epoch 82/200\n",
            "244/244 - 7s - loss: 0.9772 - accuracy: 0.8067\n",
            "Epoch 83/200\n",
            "244/244 - 7s - loss: 0.9561 - accuracy: 0.8110\n",
            "Epoch 84/200\n",
            "244/244 - 7s - loss: 0.9332 - accuracy: 0.8119\n",
            "Epoch 85/200\n",
            "244/244 - 7s - loss: 0.9116 - accuracy: 0.8201\n",
            "Epoch 86/200\n",
            "244/244 - 7s - loss: 0.8903 - accuracy: 0.8230\n",
            "Epoch 87/200\n",
            "244/244 - 7s - loss: 0.8729 - accuracy: 0.8252\n",
            "Epoch 88/200\n",
            "244/244 - 7s - loss: 0.8523 - accuracy: 0.8285\n",
            "Epoch 89/200\n",
            "244/244 - 7s - loss: 0.8346 - accuracy: 0.8331\n",
            "Epoch 90/200\n",
            "244/244 - 7s - loss: 0.8129 - accuracy: 0.8367\n",
            "Epoch 91/200\n",
            "244/244 - 7s - loss: 0.7962 - accuracy: 0.8417\n",
            "Epoch 92/200\n",
            "244/244 - 7s - loss: 0.7776 - accuracy: 0.8460\n",
            "Epoch 93/200\n",
            "244/244 - 7s - loss: 0.7630 - accuracy: 0.8476\n",
            "Epoch 94/200\n",
            "244/244 - 7s - loss: 0.7436 - accuracy: 0.8501\n",
            "Epoch 95/200\n",
            "244/244 - 7s - loss: 0.7256 - accuracy: 0.8534\n",
            "Epoch 96/200\n",
            "244/244 - 7s - loss: 0.7129 - accuracy: 0.8575\n",
            "Epoch 97/200\n",
            "244/244 - 7s - loss: 0.6936 - accuracy: 0.8647\n",
            "Epoch 98/200\n",
            "244/244 - 7s - loss: 0.6791 - accuracy: 0.8631\n",
            "Epoch 99/200\n",
            "244/244 - 7s - loss: 0.6678 - accuracy: 0.8667\n",
            "Epoch 100/200\n",
            "244/244 - 7s - loss: 0.6534 - accuracy: 0.8686\n",
            "Epoch 101/200\n",
            "244/244 - 7s - loss: 0.6383 - accuracy: 0.8698\n",
            "Epoch 102/200\n",
            "244/244 - 7s - loss: 0.6226 - accuracy: 0.8747\n",
            "Epoch 103/200\n",
            "244/244 - 7s - loss: 0.6094 - accuracy: 0.8802\n",
            "Epoch 104/200\n",
            "244/244 - 7s - loss: 0.5961 - accuracy: 0.8806\n",
            "Epoch 105/200\n",
            "244/244 - 7s - loss: 0.5875 - accuracy: 0.8820\n",
            "Epoch 106/200\n",
            "244/244 - 7s - loss: 0.5748 - accuracy: 0.8868\n",
            "Epoch 107/200\n",
            "244/244 - 7s - loss: 0.5596 - accuracy: 0.8866\n",
            "Epoch 108/200\n",
            "244/244 - 7s - loss: 0.5492 - accuracy: 0.8868\n",
            "Epoch 109/200\n",
            "244/244 - 7s - loss: 0.5398 - accuracy: 0.8899\n",
            "Epoch 110/200\n",
            "244/244 - 7s - loss: 0.5278 - accuracy: 0.8930\n",
            "Epoch 111/200\n",
            "244/244 - 7s - loss: 0.5170 - accuracy: 0.8922\n",
            "Epoch 112/200\n",
            "244/244 - 7s - loss: 0.5064 - accuracy: 0.8979\n",
            "Epoch 113/200\n",
            "244/244 - 7s - loss: 0.4989 - accuracy: 0.8968\n",
            "Epoch 114/200\n",
            "244/244 - 7s - loss: 0.4899 - accuracy: 0.8967\n",
            "Epoch 115/200\n",
            "244/244 - 7s - loss: 0.4769 - accuracy: 0.8986\n",
            "Epoch 116/200\n",
            "244/244 - 7s - loss: 0.4693 - accuracy: 0.9008\n",
            "Epoch 117/200\n",
            "244/244 - 7s - loss: 0.4613 - accuracy: 0.9021\n",
            "Epoch 118/200\n",
            "244/244 - 7s - loss: 0.4518 - accuracy: 0.9022\n",
            "Epoch 119/200\n",
            "244/244 - 7s - loss: 0.4456 - accuracy: 0.9013\n",
            "Epoch 120/200\n",
            "244/244 - 7s - loss: 0.4364 - accuracy: 0.9043\n",
            "Epoch 121/200\n",
            "244/244 - 7s - loss: 0.4306 - accuracy: 0.9072\n",
            "Epoch 122/200\n",
            "244/244 - 7s - loss: 0.4227 - accuracy: 0.9091\n",
            "Epoch 123/200\n",
            "244/244 - 7s - loss: 0.4160 - accuracy: 0.9067\n",
            "Epoch 124/200\n",
            "244/244 - 7s - loss: 0.4091 - accuracy: 0.9086\n",
            "Epoch 125/200\n",
            "244/244 - 7s - loss: 0.4020 - accuracy: 0.9089\n",
            "Epoch 126/200\n",
            "244/244 - 7s - loss: 0.3964 - accuracy: 0.9091\n",
            "Epoch 127/200\n",
            "244/244 - 7s - loss: 0.3898 - accuracy: 0.9114\n",
            "Epoch 128/200\n",
            "244/244 - 7s - loss: 0.3852 - accuracy: 0.9130\n",
            "Epoch 129/200\n",
            "244/244 - 7s - loss: 0.3800 - accuracy: 0.9116\n",
            "Epoch 130/200\n",
            "244/244 - 7s - loss: 0.3745 - accuracy: 0.9129\n",
            "Epoch 131/200\n",
            "244/244 - 7s - loss: 0.3734 - accuracy: 0.9123\n",
            "Epoch 132/200\n",
            "244/244 - 7s - loss: 0.3704 - accuracy: 0.9131\n",
            "Epoch 133/200\n",
            "244/244 - 7s - loss: 0.3620 - accuracy: 0.9141\n",
            "Epoch 134/200\n",
            "244/244 - 7s - loss: 0.3552 - accuracy: 0.9132\n",
            "Epoch 135/200\n",
            "244/244 - 7s - loss: 0.3502 - accuracy: 0.9139\n",
            "Epoch 136/200\n",
            "244/244 - 7s - loss: 0.3467 - accuracy: 0.9140\n",
            "Epoch 137/200\n",
            "244/244 - 7s - loss: 0.3410 - accuracy: 0.9146\n",
            "Epoch 138/200\n",
            "244/244 - 7s - loss: 0.3390 - accuracy: 0.9146\n",
            "Epoch 139/200\n",
            "244/244 - 7s - loss: 0.3347 - accuracy: 0.9168\n",
            "Epoch 140/200\n",
            "244/244 - 7s - loss: 0.3438 - accuracy: 0.9141\n",
            "Epoch 141/200\n",
            "244/244 - 7s - loss: 0.3316 - accuracy: 0.9172\n",
            "Epoch 142/200\n",
            "244/244 - 7s - loss: 0.3262 - accuracy: 0.9163\n",
            "Epoch 143/200\n",
            "244/244 - 7s - loss: 0.3227 - accuracy: 0.9155\n",
            "Epoch 144/200\n",
            "244/244 - 7s - loss: 0.3187 - accuracy: 0.9161\n",
            "Epoch 145/200\n",
            "244/244 - 7s - loss: 0.3157 - accuracy: 0.9167\n",
            "Epoch 146/200\n",
            "244/244 - 7s - loss: 0.3138 - accuracy: 0.9161\n",
            "Epoch 147/200\n",
            "244/244 - 7s - loss: 0.3126 - accuracy: 0.9170\n",
            "Epoch 148/200\n",
            "244/244 - 7s - loss: 0.3092 - accuracy: 0.9172\n",
            "Epoch 149/200\n",
            "244/244 - 7s - loss: 0.3081 - accuracy: 0.9171\n",
            "Epoch 150/200\n",
            "244/244 - 7s - loss: 0.3046 - accuracy: 0.9173\n",
            "Epoch 151/200\n",
            "244/244 - 7s - loss: 0.3035 - accuracy: 0.9155\n",
            "Epoch 152/200\n",
            "244/244 - 7s - loss: 0.3010 - accuracy: 0.9166\n",
            "Epoch 153/200\n",
            "244/244 - 7s - loss: 0.3015 - accuracy: 0.9162\n",
            "Epoch 154/200\n",
            "244/244 - 7s - loss: 0.2974 - accuracy: 0.9166\n",
            "Epoch 155/200\n",
            "244/244 - 7s - loss: 0.2999 - accuracy: 0.9172\n",
            "Epoch 156/200\n",
            "244/244 - 7s - loss: 0.3130 - accuracy: 0.9135\n",
            "Epoch 157/200\n",
            "244/244 - 7s - loss: 0.3087 - accuracy: 0.9143\n",
            "Epoch 158/200\n",
            "244/244 - 7s - loss: 0.2948 - accuracy: 0.9154\n",
            "Epoch 159/200\n",
            "244/244 - 7s - loss: 0.2886 - accuracy: 0.9175\n",
            "Epoch 160/200\n",
            "244/244 - 7s - loss: 0.2868 - accuracy: 0.9164\n",
            "Epoch 161/200\n",
            "244/244 - 7s - loss: 0.2844 - accuracy: 0.9164\n",
            "Epoch 162/200\n",
            "244/244 - 7s - loss: 0.2841 - accuracy: 0.9168\n",
            "Epoch 163/200\n",
            "244/244 - 7s - loss: 0.2833 - accuracy: 0.9170\n",
            "Epoch 164/200\n",
            "244/244 - 7s - loss: 0.2824 - accuracy: 0.9166\n",
            "Epoch 165/200\n",
            "244/244 - 7s - loss: 0.2832 - accuracy: 0.9158\n",
            "Epoch 166/200\n",
            "244/244 - 7s - loss: 0.2808 - accuracy: 0.9171\n",
            "Epoch 167/200\n",
            "244/244 - 7s - loss: 0.2798 - accuracy: 0.9159\n",
            "Epoch 168/200\n",
            "244/244 - 7s - loss: 0.2783 - accuracy: 0.9167\n",
            "Epoch 169/200\n",
            "244/244 - 7s - loss: 0.2762 - accuracy: 0.9171\n",
            "Epoch 170/200\n",
            "244/244 - 7s - loss: 0.2788 - accuracy: 0.9161\n",
            "Epoch 171/200\n",
            "244/244 - 7s - loss: 0.2780 - accuracy: 0.9163\n",
            "Epoch 172/200\n",
            "244/244 - 7s - loss: 0.2754 - accuracy: 0.9172\n",
            "Epoch 173/200\n",
            "244/244 - 7s - loss: 0.2757 - accuracy: 0.9162\n",
            "Epoch 174/200\n",
            "244/244 - 7s - loss: 0.2747 - accuracy: 0.9167\n",
            "Epoch 175/200\n",
            "244/244 - 7s - loss: 0.2737 - accuracy: 0.9158\n",
            "Epoch 176/200\n",
            "244/244 - 7s - loss: 0.2732 - accuracy: 0.9175\n",
            "Epoch 177/200\n",
            "244/244 - 7s - loss: 0.2738 - accuracy: 0.9164\n",
            "Epoch 178/200\n",
            "244/244 - 7s - loss: 0.2717 - accuracy: 0.9153\n",
            "Epoch 179/200\n",
            "244/244 - 7s - loss: 0.2716 - accuracy: 0.9158\n",
            "Epoch 180/200\n",
            "244/244 - 7s - loss: 0.2922 - accuracy: 0.9134\n",
            "Epoch 181/200\n",
            "244/244 - 7s - loss: 0.3224 - accuracy: 0.9054\n",
            "Epoch 182/200\n",
            "244/244 - 7s - loss: 0.3048 - accuracy: 0.9126\n",
            "Epoch 183/200\n",
            "244/244 - 7s - loss: 0.2715 - accuracy: 0.9164\n",
            "Epoch 184/200\n",
            "244/244 - 7s - loss: 0.2667 - accuracy: 0.9158\n",
            "Epoch 185/200\n",
            "244/244 - 7s - loss: 0.2653 - accuracy: 0.9170\n",
            "Epoch 186/200\n",
            "244/244 - 7s - loss: 0.2662 - accuracy: 0.9163\n",
            "Epoch 187/200\n",
            "244/244 - 7s - loss: 0.2653 - accuracy: 0.9148\n",
            "Epoch 188/200\n",
            "244/244 - 7s - loss: 0.2647 - accuracy: 0.9158\n",
            "Epoch 189/200\n",
            "244/244 - 7s - loss: 0.2639 - accuracy: 0.9162\n",
            "Epoch 190/200\n",
            "244/244 - 7s - loss: 0.2643 - accuracy: 0.9154\n",
            "Epoch 191/200\n",
            "244/244 - 7s - loss: 0.2644 - accuracy: 0.9162\n",
            "Epoch 192/200\n",
            "244/244 - 7s - loss: 0.2647 - accuracy: 0.9153\n",
            "Epoch 193/200\n",
            "244/244 - 7s - loss: 0.2637 - accuracy: 0.9161\n",
            "Epoch 194/200\n",
            "244/244 - 7s - loss: 0.2634 - accuracy: 0.9144\n",
            "Epoch 195/200\n",
            "244/244 - 7s - loss: 0.2639 - accuracy: 0.9168\n",
            "Epoch 196/200\n",
            "244/244 - 7s - loss: 0.2634 - accuracy: 0.9159\n",
            "Epoch 197/200\n",
            "244/244 - 7s - loss: 0.2635 - accuracy: 0.9172\n",
            "Epoch 198/200\n",
            "244/244 - 7s - loss: 0.2645 - accuracy: 0.9153\n",
            "Epoch 199/200\n",
            "244/244 - 7s - loss: 0.2640 - accuracy: 0.9164\n",
            "Epoch 200/200\n",
            "244/244 - 7s - loss: 0.2628 - accuracy: 0.9159\n"
          ],
          "name": "stdout"
        },
        {
          "output_type": "execute_result",
          "data": {
            "text/plain": [
              "<tensorflow.python.keras.callbacks.History at 0x7f7ace546bd0>"
            ]
          },
          "metadata": {
            "tags": []
          },
          "execution_count": 49
        }
      ]
    },
    {
      "cell_type": "code",
      "metadata": {
        "id": "kzBgNBbkUvsp"
      },
      "source": [
        "def generate_sent(model, tokenizer, current_word, n):\n",
        "  sentence = current_word\n",
        "  for _ in range(n):\n",
        "    encoded = tokenizer.texts_to_sequences([current_word])[0]\n",
        "    encoded = pad_sequences([encoded], maxlen=23, padding='pre')\n",
        "    result = model.predict_classes(encoded, verbose=0)\n",
        "    for word, index in tokenizer.word_index.items():\n",
        "      if index == result:\n",
        "        current_word = current_word + ' ' + word\n",
        "        sentence = sentence + ' ' + word\n",
        "        break\n",
        "  return sentence"
      ],
      "execution_count": 50,
      "outputs": []
    },
    {
      "cell_type": "code",
      "metadata": {
        "colab": {
          "base_uri": "https://localhost:8080/"
        },
        "id": "Jmj93sHHXsRB",
        "outputId": "239bf1f6-a75a-4207-bc91-c53cc55fc5ff"
      },
      "source": [
        "input_word = input()\n",
        "n = int(input())\n",
        "\n",
        "print(generate_sent(model, tokenizer, input_word, n))"
      ],
      "execution_count": 59,
      "outputs": [
        {
          "output_type": "stream",
          "text": [
            "how\n",
            "10\n"
          ],
          "name": "stdout"
        },
        {
          "output_type": "stream",
          "text": [
            "/usr/local/lib/python3.7/dist-packages/tensorflow/python/keras/engine/sequential.py:455: UserWarning: `model.predict_classes()` is deprecated and will be removed after 2021-01-01. Please use instead:* `np.argmax(model.predict(x), axis=-1)`,   if your model does multi-class classification   (e.g. if it uses a `softmax` last-layer activation).* `(model.predict(x) > 0.5).astype(\"int32\")`,   if your model does binary classification   (e.g. if it uses a `sigmoid` last-layer activation).\n",
            "  warnings.warn('`model.predict_classes()` is deprecated and '\n"
          ],
          "name": "stderr"
        },
        {
          "output_type": "stream",
          "text": [
            "how to make a crossword puzzle epa by political king science\n"
          ],
          "name": "stdout"
        }
      ]
    },
    {
      "cell_type": "code",
      "metadata": {
        "colab": {
          "base_uri": "https://localhost:8080/"
        },
        "id": "P6fRt3U6bwLA",
        "outputId": "a2add406-b3fb-40cd-bafc-c38ede629128"
      },
      "source": [
        "model.save('./drive/MyDrive/models/LSTM_toy')\n",
        "# new_model = tf.keras.models.load_model('./drive/MyDrive/models/LSTM_toy') 로 모델 불러오기 가능"
      ],
      "execution_count": 60,
      "outputs": [
        {
          "output_type": "stream",
          "text": [
            "WARNING:absl:Found untraced functions such as lstm_cell_1_layer_call_fn, lstm_cell_1_layer_call_and_return_conditional_losses, lstm_cell_1_layer_call_fn, lstm_cell_1_layer_call_and_return_conditional_losses, lstm_cell_1_layer_call_and_return_conditional_losses while saving (showing 5 of 5). These functions will not be directly callable after loading.\n"
          ],
          "name": "stderr"
        },
        {
          "output_type": "stream",
          "text": [
            "INFO:tensorflow:Assets written to: ./drive/MyDrive/models/LSTM_toy/assets\n"
          ],
          "name": "stdout"
        },
        {
          "output_type": "stream",
          "text": [
            "INFO:tensorflow:Assets written to: ./drive/MyDrive/models/LSTM_toy/assets\n"
          ],
          "name": "stderr"
        }
      ]
    },
    {
      "cell_type": "code",
      "metadata": {
        "id": "22XFUJsvgN6B"
      },
      "source": [
        "import pickle\n",
        "\n",
        "with open('./drive/MyDrive/models/LSTM_toy_tokenizer', 'wb') as f:\n",
        "\tpickle.dump(tokenizer, f, protocol=pickle.HIGHEST_PROTOCOL)\n",
        "\n",
        "'''\n",
        "with open('./drive/MyDrive/models/LSTM_toy_tokenizer', 'rb') as f:\n",
        "\ttokenizer = pickle.load(f)\n",
        "\n",
        "위의 코드로 tokenzier 객체 불러오기 가능\n",
        "'''"
      ],
      "execution_count": 65,
      "outputs": []
    }
  ]
}